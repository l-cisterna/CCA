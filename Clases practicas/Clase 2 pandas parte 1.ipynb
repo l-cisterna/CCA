{
 "cells": [
  {
   "cell_type": "markdown",
   "id": "20bc4f1a",
   "metadata": {},
   "source": [
    "## 2. Clase práctica - Análisis de datos con Pandas - Parte 1"
   ]
  },
  {
   "cell_type": "markdown",
   "id": "organic-battlefield",
   "metadata": {
    "id": "organic-battlefield"
   },
   "source": [
    "## Para realizar esta NB deben tener los datasets data1 y data2 en formato csv."
   ]
  },
  {
   "cell_type": "markdown",
   "id": "stock-beast",
   "metadata": {
    "id": "stock-beast"
   },
   "source": [
    "**Importamos librerias que vamos a usar en toda la NB**"
   ]
  },
  {
   "cell_type": "code",
   "execution_count": 1,
   "id": "portuguese-roller",
   "metadata": {
    "id": "portuguese-roller"
   },
   "outputs": [],
   "source": [
    "import pandas as pd #Pandas para trabajar con dataframes\n",
    "import numpy as np\n",
    "\n",
    "import warnings\n",
    "warnings.filterwarnings(\"ignore\") #Ignorar warnings"
   ]
  },
  {
   "cell_type": "markdown",
   "id": "floating-bracelet",
   "metadata": {
    "id": "floating-bracelet"
   },
   "source": [
    "### Importar los dataframes.\n",
    "\n",
    "**Llamar al data1.csv \"df\" y al data2 \"df_variables\"**. "
   ]
  },
  {
   "cell_type": "code",
   "execution_count": 2,
   "id": "thrown-bryan",
   "metadata": {
    "id": "thrown-bryan"
   },
   "outputs": [],
   "source": [
    "# dataset = pd.read_csv(\"/ruta/donde/esta/el/df/nombre_dataframe.csv\")\n",
    "\n",
    "df = pd.read_csv(\"data1.csv\")\n",
    "\n",
    "df_variables = pd.read_csv(\"data2.csv\")"
   ]
  },
  {
   "cell_type": "code",
   "execution_count": 3,
   "id": "1f997569",
   "metadata": {},
   "outputs": [
    {
     "data": {
      "text/plain": [
       "['Unnamed: 0',\n",
       " 'rut',\n",
       " 'periodo',\n",
       " 'ind_activo',\n",
       " 'estado_solicitud',\n",
       " 'captacion',\n",
       " 'cant_tel',\n",
       " 'predictor1_6',\n",
       " 'marca_60d_6m_final']"
      ]
     },
     "execution_count": 3,
     "metadata": {},
     "output_type": "execute_result"
    }
   ],
   "source": [
    "df.columns.tolist()"
   ]
  },
  {
   "cell_type": "markdown",
   "id": "9686bf3d",
   "metadata": {},
   "source": [
    "### Detalles de la data:\n",
    "\n",
    "**Es importante destacar que no importa mucho que significa cada variable en esta NB, ya que el objetivo principal es que puedan realizar los ejercicios y entender cómo funciona pandas**.\n",
    "\n",
    "No obstante, les dejamos una breve descripción de algunos atributos en caso que lo necesiten.\n",
    "\n",
    "- rut = ID de cada observación.\n",
    "- Periodo = periodo de cada observación.\n",
    "- Los campos rut y periodo son las claves por las cuales los registros son únicos, es decir que no hay duplicados con mismo rut y periodo.\n",
    "- ind_activo: Informacion si el cliente se encuentre activo.\n",
    "- estado_solicitud: estado en el que se encuentra la solcitud del cliente.\n",
    "- captacion: metodo de captacion por el cual fue captado el cliente.\n",
    "- etc.\n"
   ]
  },
  {
   "cell_type": "markdown",
   "id": "5540b1a1",
   "metadata": {},
   "source": [
    "#### Si importaron el dataset y les quedo la columna \"Unnamed: 0\". Eliminarla usando drop\n",
    "\n",
    "**Atentos a no olvidarse el inplace=True!!**"
   ]
  },
  {
   "cell_type": "code",
   "execution_count": 4,
   "id": "7b20a0f8",
   "metadata": {},
   "outputs": [],
   "source": [
    "df.drop(columns=['Unnamed: 0'], inplace=True)\n",
    "\n",
    "df_variables.drop(columns=['Unnamed: 0'], inplace=True)"
   ]
  },
  {
   "cell_type": "markdown",
   "id": "variable-athletics",
   "metadata": {
    "id": "variable-athletics"
   },
   "source": [
    "2) CSV que no esta delimitado por comas, ejemplo un txt delimitado por \"|\""
   ]
  },
  {
   "cell_type": "code",
   "execution_count": 5,
   "id": "rotary-allergy",
   "metadata": {
    "id": "rotary-allergy"
   },
   "outputs": [],
   "source": [
    "# # dataset = pd.read_csv(\"/ruta/donde/esta/el/df/nombre_dataframe.txt\", delimiter = \"|\")"
   ]
  },
  {
   "cell_type": "markdown",
   "id": "dedicated-cardiff",
   "metadata": {
    "id": "dedicated-cardiff"
   },
   "source": [
    "### 1) Realizar Sanity check de la data.\n",
    "\n",
    "Para este primer punto, utilizar el dataset df que hace referencia al data1.csv. No obstante, si quieren realizarlo en ambos, nunca esta demás.\n",
    "\n",
    "**Funciones Útiles**"
   ]
  },
  {
   "cell_type": "markdown",
   "id": "finite-clothing",
   "metadata": {
    "id": "finite-clothing"
   },
   "source": [
    "* .head()\n",
    "* .info()\n",
    "* .shape\n",
    "* .dtypes\n",
    "* .describe\n",
    "* .isna()\n",
    "* .sum()\n",
    "* .unique()\n",
    "* .nunique()\n",
    "* .value_counts()"
   ]
  },
  {
   "cell_type": "markdown",
   "id": "0395d8ad",
   "metadata": {},
   "source": [
    "#### 1.1) Observar las primeras 5 filas del dataset \"df\"."
   ]
  },
  {
   "cell_type": "code",
   "execution_count": 6,
   "id": "prepared-baltimore",
   "metadata": {
    "id": "prepared-baltimore",
    "outputId": "ed4f877a-e0e3-4215-cae3-01799b6408ef",
    "scrolled": true
   },
   "outputs": [
    {
     "data": {
      "text/html": [
       "<div>\n",
       "<style scoped>\n",
       "    .dataframe tbody tr th:only-of-type {\n",
       "        vertical-align: middle;\n",
       "    }\n",
       "\n",
       "    .dataframe tbody tr th {\n",
       "        vertical-align: top;\n",
       "    }\n",
       "\n",
       "    .dataframe thead th {\n",
       "        text-align: right;\n",
       "    }\n",
       "</style>\n",
       "<table border=\"1\" class=\"dataframe\">\n",
       "  <thead>\n",
       "    <tr style=\"text-align: right;\">\n",
       "      <th></th>\n",
       "      <th>rut</th>\n",
       "      <th>periodo</th>\n",
       "      <th>ind_activo</th>\n",
       "      <th>estado_solicitud</th>\n",
       "      <th>captacion</th>\n",
       "      <th>cant_tel</th>\n",
       "      <th>predictor1_6</th>\n",
       "      <th>marca_60d_6m_final</th>\n",
       "    </tr>\n",
       "  </thead>\n",
       "  <tbody>\n",
       "    <tr>\n",
       "      <th>0</th>\n",
       "      <td>PlDKtWGFBg</td>\n",
       "      <td>201909.0</td>\n",
       "      <td>0.0</td>\n",
       "      <td>Rechazado</td>\n",
       "      <td>NORMAL</td>\n",
       "      <td>1.0</td>\n",
       "      <td>596.0</td>\n",
       "      <td>1.0</td>\n",
       "    </tr>\n",
       "    <tr>\n",
       "      <th>1</th>\n",
       "      <td>MOAbr9v9ac</td>\n",
       "      <td>201810.0</td>\n",
       "      <td>1.0</td>\n",
       "      <td>Aprobado</td>\n",
       "      <td>EXPRESS</td>\n",
       "      <td>4.0</td>\n",
       "      <td>NaN</td>\n",
       "      <td>0.0</td>\n",
       "    </tr>\n",
       "    <tr>\n",
       "      <th>2</th>\n",
       "      <td>49L1vb3c2I</td>\n",
       "      <td>201909.0</td>\n",
       "      <td>1.0</td>\n",
       "      <td>Aprobado</td>\n",
       "      <td>NORMAL</td>\n",
       "      <td>3.0</td>\n",
       "      <td>633.0</td>\n",
       "      <td>0.0</td>\n",
       "    </tr>\n",
       "    <tr>\n",
       "      <th>3</th>\n",
       "      <td>7xM1iIFNCb</td>\n",
       "      <td>201812.0</td>\n",
       "      <td>1.0</td>\n",
       "      <td>Aprobado</td>\n",
       "      <td>EXPRESS</td>\n",
       "      <td>4.0</td>\n",
       "      <td>NaN</td>\n",
       "      <td>0.0</td>\n",
       "    </tr>\n",
       "    <tr>\n",
       "      <th>4</th>\n",
       "      <td>e2ayZYSD59</td>\n",
       "      <td>201809.0</td>\n",
       "      <td>1.0</td>\n",
       "      <td>Aprobado</td>\n",
       "      <td>NORMAL</td>\n",
       "      <td>0.0</td>\n",
       "      <td>NaN</td>\n",
       "      <td>0.0</td>\n",
       "    </tr>\n",
       "  </tbody>\n",
       "</table>\n",
       "</div>"
      ],
      "text/plain": [
       "          rut   periodo  ind_activo estado_solicitud captacion  cant_tel  \\\n",
       "0  PlDKtWGFBg  201909.0         0.0        Rechazado    NORMAL       1.0   \n",
       "1  MOAbr9v9ac  201810.0         1.0         Aprobado   EXPRESS       4.0   \n",
       "2  49L1vb3c2I  201909.0         1.0         Aprobado    NORMAL       3.0   \n",
       "3  7xM1iIFNCb  201812.0         1.0         Aprobado   EXPRESS       4.0   \n",
       "4  e2ayZYSD59  201809.0         1.0         Aprobado    NORMAL       0.0   \n",
       "\n",
       "   predictor1_6  marca_60d_6m_final  \n",
       "0         596.0                 1.0  \n",
       "1           NaN                 0.0  \n",
       "2         633.0                 0.0  \n",
       "3           NaN                 0.0  \n",
       "4           NaN                 0.0  "
      ]
     },
     "execution_count": 6,
     "metadata": {},
     "output_type": "execute_result"
    }
   ],
   "source": [
    "# Observar las primeras N filas de un df (por default muestra las primeras 5)\n",
    "df.head()"
   ]
  },
  {
   "cell_type": "markdown",
   "id": "187d38a4",
   "metadata": {},
   "source": [
    "#### 1.2) Observar las últimas 5 filas del dataset \"df\"."
   ]
  },
  {
   "cell_type": "code",
   "execution_count": 7,
   "id": "limited-nicholas",
   "metadata": {
    "id": "limited-nicholas",
    "outputId": "69befea4-659f-4b05-9a45-ecc56695819e",
    "scrolled": true
   },
   "outputs": [
    {
     "data": {
      "text/html": [
       "<div>\n",
       "<style scoped>\n",
       "    .dataframe tbody tr th:only-of-type {\n",
       "        vertical-align: middle;\n",
       "    }\n",
       "\n",
       "    .dataframe tbody tr th {\n",
       "        vertical-align: top;\n",
       "    }\n",
       "\n",
       "    .dataframe thead th {\n",
       "        text-align: right;\n",
       "    }\n",
       "</style>\n",
       "<table border=\"1\" class=\"dataframe\">\n",
       "  <thead>\n",
       "    <tr style=\"text-align: right;\">\n",
       "      <th></th>\n",
       "      <th>rut</th>\n",
       "      <th>periodo</th>\n",
       "      <th>ind_activo</th>\n",
       "      <th>estado_solicitud</th>\n",
       "      <th>captacion</th>\n",
       "      <th>cant_tel</th>\n",
       "      <th>predictor1_6</th>\n",
       "      <th>marca_60d_6m_final</th>\n",
       "    </tr>\n",
       "  </thead>\n",
       "  <tbody>\n",
       "    <tr>\n",
       "      <th>9995</th>\n",
       "      <td>aaoBjnEivN</td>\n",
       "      <td>201909.0</td>\n",
       "      <td>0.0</td>\n",
       "      <td>Rechazado</td>\n",
       "      <td>NORMAL</td>\n",
       "      <td>4.0</td>\n",
       "      <td>350.0</td>\n",
       "      <td>1.0</td>\n",
       "    </tr>\n",
       "    <tr>\n",
       "      <th>9996</th>\n",
       "      <td>ydTWpQrnQV</td>\n",
       "      <td>201912.0</td>\n",
       "      <td>1.0</td>\n",
       "      <td>Aprobado</td>\n",
       "      <td>NORMAL</td>\n",
       "      <td>3.0</td>\n",
       "      <td>605.0</td>\n",
       "      <td>0.0</td>\n",
       "    </tr>\n",
       "    <tr>\n",
       "      <th>9997</th>\n",
       "      <td>gE0FksUKBV</td>\n",
       "      <td>202003.0</td>\n",
       "      <td>1.0</td>\n",
       "      <td>Aprobado</td>\n",
       "      <td>EXPRESS</td>\n",
       "      <td>1.0</td>\n",
       "      <td>805.0</td>\n",
       "      <td>0.0</td>\n",
       "    </tr>\n",
       "    <tr>\n",
       "      <th>9998</th>\n",
       "      <td>5Vf8evWasd</td>\n",
       "      <td>201905.0</td>\n",
       "      <td>1.0</td>\n",
       "      <td>Aprobado</td>\n",
       "      <td>EXPRESS</td>\n",
       "      <td>5.0</td>\n",
       "      <td>387.0</td>\n",
       "      <td>0.0</td>\n",
       "    </tr>\n",
       "    <tr>\n",
       "      <th>9999</th>\n",
       "      <td>WP6QjuqjbW</td>\n",
       "      <td>201908.0</td>\n",
       "      <td>1.0</td>\n",
       "      <td>Aprobado</td>\n",
       "      <td>EXPRESS</td>\n",
       "      <td>8.0</td>\n",
       "      <td>410.0</td>\n",
       "      <td>0.0</td>\n",
       "    </tr>\n",
       "  </tbody>\n",
       "</table>\n",
       "</div>"
      ],
      "text/plain": [
       "             rut   periodo  ind_activo estado_solicitud captacion  cant_tel  \\\n",
       "9995  aaoBjnEivN  201909.0         0.0        Rechazado    NORMAL       4.0   \n",
       "9996  ydTWpQrnQV  201912.0         1.0         Aprobado    NORMAL       3.0   \n",
       "9997  gE0FksUKBV  202003.0         1.0         Aprobado   EXPRESS       1.0   \n",
       "9998  5Vf8evWasd  201905.0         1.0         Aprobado   EXPRESS       5.0   \n",
       "9999  WP6QjuqjbW  201908.0         1.0         Aprobado   EXPRESS       8.0   \n",
       "\n",
       "      predictor1_6  marca_60d_6m_final  \n",
       "9995         350.0                 1.0  \n",
       "9996         605.0                 0.0  \n",
       "9997         805.0                 0.0  \n",
       "9998         387.0                 0.0  \n",
       "9999         410.0                 0.0  "
      ]
     },
     "execution_count": 7,
     "metadata": {},
     "output_type": "execute_result"
    }
   ],
   "source": [
    "# Observar las ultimas N filas de un df (por default muestra las ultimas 5)\n",
    "df.tail()"
   ]
  },
  {
   "cell_type": "markdown",
   "id": "32fadd21",
   "metadata": {},
   "source": [
    "#### 1.3) Obtener información general del dataframe utilizando .info()"
   ]
  },
  {
   "cell_type": "code",
   "execution_count": 8,
   "id": "welsh-seventh",
   "metadata": {
    "id": "welsh-seventh",
    "outputId": "e69db4f4-bf3c-419a-abe2-ed9628b1a859",
    "scrolled": true
   },
   "outputs": [
    {
     "name": "stdout",
     "output_type": "stream",
     "text": [
      "<class 'pandas.core.frame.DataFrame'>\n",
      "RangeIndex: 10000 entries, 0 to 9999\n",
      "Data columns (total 8 columns):\n",
      " #   Column              Non-Null Count  Dtype  \n",
      "---  ------              --------------  -----  \n",
      " 0   rut                 10000 non-null  object \n",
      " 1   periodo             10000 non-null  float64\n",
      " 2   ind_activo          10000 non-null  float64\n",
      " 3   estado_solicitud    10000 non-null  object \n",
      " 4   captacion           10000 non-null  object \n",
      " 5   cant_tel            10000 non-null  float64\n",
      " 6   predictor1_6        6904 non-null   float64\n",
      " 7   marca_60d_6m_final  10000 non-null  float64\n",
      "dtypes: float64(5), object(3)\n",
      "memory usage: 625.1+ KB\n"
     ]
    }
   ],
   "source": [
    "# Informacion general del df y todas sus columnas\n",
    "df.info()"
   ]
  },
  {
   "cell_type": "markdown",
   "id": "44b9a8a4",
   "metadata": {},
   "source": [
    "#### 1.4) Obtener dimensiones del dataframe (filas y columnas)."
   ]
  },
  {
   "cell_type": "code",
   "execution_count": 9,
   "id": "complex-aberdeen",
   "metadata": {
    "id": "complex-aberdeen",
    "outputId": "d1da5a5f-f283-46a9-e4e5-8df38ac0f83b"
   },
   "outputs": [
    {
     "data": {
      "text/plain": [
       "(10000, 8)"
      ]
     },
     "execution_count": 9,
     "metadata": {},
     "output_type": "execute_result"
    }
   ],
   "source": [
    "# Dimensiones del df (filas y columnas)\n",
    "df.shape"
   ]
  },
  {
   "cell_type": "markdown",
   "id": "46349833",
   "metadata": {},
   "source": [
    "#### 1.5) Obtener tipo de datos de las columnas"
   ]
  },
  {
   "cell_type": "code",
   "execution_count": 10,
   "id": "unauthorized-rates",
   "metadata": {
    "id": "unauthorized-rates",
    "outputId": "c67e8313-8259-4ac0-cb89-e12751671c82",
    "scrolled": false
   },
   "outputs": [
    {
     "data": {
      "text/plain": [
       "rut                    object\n",
       "periodo               float64\n",
       "ind_activo            float64\n",
       "estado_solicitud       object\n",
       "captacion              object\n",
       "cant_tel              float64\n",
       "predictor1_6          float64\n",
       "marca_60d_6m_final    float64\n",
       "dtype: object"
      ]
     },
     "execution_count": 10,
     "metadata": {},
     "output_type": "execute_result"
    }
   ],
   "source": [
    "# Tipo de datos de las columnas\n",
    "df.dtypes"
   ]
  },
  {
   "cell_type": "markdown",
   "id": "a9586009",
   "metadata": {},
   "source": [
    "#### 1.6) Seleccionar las columnas ind_activo, estado_solicitud y cant_tel."
   ]
  },
  {
   "cell_type": "code",
   "execution_count": 11,
   "id": "animated-church",
   "metadata": {
    "id": "animated-church",
    "outputId": "ae241a40-1760-4c68-befa-a75a4ec52477",
    "scrolled": true
   },
   "outputs": [
    {
     "data": {
      "text/html": [
       "<div>\n",
       "<style scoped>\n",
       "    .dataframe tbody tr th:only-of-type {\n",
       "        vertical-align: middle;\n",
       "    }\n",
       "\n",
       "    .dataframe tbody tr th {\n",
       "        vertical-align: top;\n",
       "    }\n",
       "\n",
       "    .dataframe thead th {\n",
       "        text-align: right;\n",
       "    }\n",
       "</style>\n",
       "<table border=\"1\" class=\"dataframe\">\n",
       "  <thead>\n",
       "    <tr style=\"text-align: right;\">\n",
       "      <th></th>\n",
       "      <th>ind_activo</th>\n",
       "      <th>estado_solicitud</th>\n",
       "      <th>cant_tel</th>\n",
       "    </tr>\n",
       "  </thead>\n",
       "  <tbody>\n",
       "    <tr>\n",
       "      <th>0</th>\n",
       "      <td>0.0</td>\n",
       "      <td>Rechazado</td>\n",
       "      <td>1.0</td>\n",
       "    </tr>\n",
       "    <tr>\n",
       "      <th>1</th>\n",
       "      <td>1.0</td>\n",
       "      <td>Aprobado</td>\n",
       "      <td>4.0</td>\n",
       "    </tr>\n",
       "    <tr>\n",
       "      <th>2</th>\n",
       "      <td>1.0</td>\n",
       "      <td>Aprobado</td>\n",
       "      <td>3.0</td>\n",
       "    </tr>\n",
       "    <tr>\n",
       "      <th>3</th>\n",
       "      <td>1.0</td>\n",
       "      <td>Aprobado</td>\n",
       "      <td>4.0</td>\n",
       "    </tr>\n",
       "    <tr>\n",
       "      <th>4</th>\n",
       "      <td>1.0</td>\n",
       "      <td>Aprobado</td>\n",
       "      <td>0.0</td>\n",
       "    </tr>\n",
       "  </tbody>\n",
       "</table>\n",
       "</div>"
      ],
      "text/plain": [
       "   ind_activo estado_solicitud  cant_tel\n",
       "0         0.0        Rechazado       1.0\n",
       "1         1.0         Aprobado       4.0\n",
       "2         1.0         Aprobado       3.0\n",
       "3         1.0         Aprobado       4.0\n",
       "4         1.0         Aprobado       0.0"
      ]
     },
     "execution_count": 11,
     "metadata": {},
     "output_type": "execute_result"
    }
   ],
   "source": [
    "# Seleccionar columnas\n",
    "df[['ind_activo','estado_solicitud','cant_tel']].head()"
   ]
  },
  {
   "cell_type": "markdown",
   "id": "4b649f46",
   "metadata": {},
   "source": [
    "#### 1.7) Observar la distribucion de estas 3 variables utilizando el método describe()"
   ]
  },
  {
   "cell_type": "code",
   "execution_count": 12,
   "id": "comfortable-arrow",
   "metadata": {
    "id": "comfortable-arrow",
    "outputId": "71b3880c-4420-4e26-f5e0-f0cc84d5a59f",
    "scrolled": false
   },
   "outputs": [
    {
     "data": {
      "text/html": [
       "<div>\n",
       "<style scoped>\n",
       "    .dataframe tbody tr th:only-of-type {\n",
       "        vertical-align: middle;\n",
       "    }\n",
       "\n",
       "    .dataframe tbody tr th {\n",
       "        vertical-align: top;\n",
       "    }\n",
       "\n",
       "    .dataframe thead th {\n",
       "        text-align: right;\n",
       "    }\n",
       "</style>\n",
       "<table border=\"1\" class=\"dataframe\">\n",
       "  <thead>\n",
       "    <tr style=\"text-align: right;\">\n",
       "      <th></th>\n",
       "      <th>ind_activo</th>\n",
       "      <th>cant_tel</th>\n",
       "    </tr>\n",
       "  </thead>\n",
       "  <tbody>\n",
       "    <tr>\n",
       "      <th>count</th>\n",
       "      <td>10000.00000</td>\n",
       "      <td>10000.000000</td>\n",
       "    </tr>\n",
       "    <tr>\n",
       "      <th>mean</th>\n",
       "      <td>0.68600</td>\n",
       "      <td>2.680800</td>\n",
       "    </tr>\n",
       "    <tr>\n",
       "      <th>std</th>\n",
       "      <td>0.46414</td>\n",
       "      <td>2.132831</td>\n",
       "    </tr>\n",
       "    <tr>\n",
       "      <th>min</th>\n",
       "      <td>0.00000</td>\n",
       "      <td>0.000000</td>\n",
       "    </tr>\n",
       "    <tr>\n",
       "      <th>25%</th>\n",
       "      <td>0.00000</td>\n",
       "      <td>1.000000</td>\n",
       "    </tr>\n",
       "    <tr>\n",
       "      <th>50%</th>\n",
       "      <td>1.00000</td>\n",
       "      <td>2.000000</td>\n",
       "    </tr>\n",
       "    <tr>\n",
       "      <th>75%</th>\n",
       "      <td>1.00000</td>\n",
       "      <td>4.000000</td>\n",
       "    </tr>\n",
       "    <tr>\n",
       "      <th>max</th>\n",
       "      <td>1.00000</td>\n",
       "      <td>34.000000</td>\n",
       "    </tr>\n",
       "  </tbody>\n",
       "</table>\n",
       "</div>"
      ],
      "text/plain": [
       "        ind_activo      cant_tel\n",
       "count  10000.00000  10000.000000\n",
       "mean       0.68600      2.680800\n",
       "std        0.46414      2.132831\n",
       "min        0.00000      0.000000\n",
       "25%        0.00000      1.000000\n",
       "50%        1.00000      2.000000\n",
       "75%        1.00000      4.000000\n",
       "max        1.00000     34.000000"
      ]
     },
     "execution_count": 12,
     "metadata": {},
     "output_type": "execute_result"
    }
   ],
   "source": [
    "# Observar distribucion de las variables -> describe()\n",
    "df[['ind_activo','estado_solicitud','cant_tel']].describe()"
   ]
  },
  {
   "cell_type": "markdown",
   "id": "2520b383",
   "metadata": {},
   "source": [
    "#### 1.8) Chequear cantidad de valores nulos por columna.\n",
    "\n",
    "**Pista:** Utilizar isna() y luego la suma de ello para obtener los valores por columna."
   ]
  },
  {
   "cell_type": "code",
   "execution_count": 13,
   "id": "incorporated-guarantee",
   "metadata": {
    "id": "incorporated-guarantee",
    "outputId": "b1922727-019e-49cd-ee82-670d6109865c",
    "scrolled": true
   },
   "outputs": [
    {
     "data": {
      "text/plain": [
       "rut                      0\n",
       "periodo                  0\n",
       "ind_activo               0\n",
       "estado_solicitud         0\n",
       "captacion                0\n",
       "cant_tel                 0\n",
       "predictor1_6          3096\n",
       "marca_60d_6m_final       0\n",
       "dtype: int64"
      ]
     },
     "execution_count": 13,
     "metadata": {},
     "output_type": "execute_result"
    }
   ],
   "source": [
    "# Detectar nulos en una columna \n",
    "df.isna().sum()"
   ]
  },
  {
   "cell_type": "markdown",
   "id": "41e87a56",
   "metadata": {},
   "source": [
    "#### 1.9) Calcular el valor de nulos en %.\n",
    "\n",
    "**Pista:** Dividir el bloque de codigo anterior por la cantidad de filas en el dataframe."
   ]
  },
  {
   "cell_type": "code",
   "execution_count": 14,
   "id": "rotary-leader",
   "metadata": {
    "id": "rotary-leader",
    "outputId": "0ec1a4b4-752f-426e-f473-442326ab456a",
    "scrolled": true
   },
   "outputs": [
    {
     "data": {
      "text/html": [
       "<div>\n",
       "<style scoped>\n",
       "    .dataframe tbody tr th:only-of-type {\n",
       "        vertical-align: middle;\n",
       "    }\n",
       "\n",
       "    .dataframe tbody tr th {\n",
       "        vertical-align: top;\n",
       "    }\n",
       "\n",
       "    .dataframe thead th {\n",
       "        text-align: right;\n",
       "    }\n",
       "</style>\n",
       "<table border=\"1\" class=\"dataframe\">\n",
       "  <thead>\n",
       "    <tr style=\"text-align: right;\">\n",
       "      <th></th>\n",
       "      <th>%Nulos</th>\n",
       "    </tr>\n",
       "  </thead>\n",
       "  <tbody>\n",
       "    <tr>\n",
       "      <th>rut</th>\n",
       "      <td>0.0000</td>\n",
       "    </tr>\n",
       "    <tr>\n",
       "      <th>periodo</th>\n",
       "      <td>0.0000</td>\n",
       "    </tr>\n",
       "    <tr>\n",
       "      <th>ind_activo</th>\n",
       "      <td>0.0000</td>\n",
       "    </tr>\n",
       "    <tr>\n",
       "      <th>estado_solicitud</th>\n",
       "      <td>0.0000</td>\n",
       "    </tr>\n",
       "    <tr>\n",
       "      <th>captacion</th>\n",
       "      <td>0.0000</td>\n",
       "    </tr>\n",
       "    <tr>\n",
       "      <th>cant_tel</th>\n",
       "      <td>0.0000</td>\n",
       "    </tr>\n",
       "    <tr>\n",
       "      <th>predictor1_6</th>\n",
       "      <td>0.3096</td>\n",
       "    </tr>\n",
       "    <tr>\n",
       "      <th>marca_60d_6m_final</th>\n",
       "      <td>0.0000</td>\n",
       "    </tr>\n",
       "  </tbody>\n",
       "</table>\n",
       "</div>"
      ],
      "text/plain": [
       "                    %Nulos\n",
       "rut                 0.0000\n",
       "periodo             0.0000\n",
       "ind_activo          0.0000\n",
       "estado_solicitud    0.0000\n",
       "captacion           0.0000\n",
       "cant_tel            0.0000\n",
       "predictor1_6        0.3096\n",
       "marca_60d_6m_final  0.0000"
      ]
     },
     "execution_count": 14,
     "metadata": {},
     "output_type": "execute_result"
    }
   ],
   "source": [
    "pd.DataFrame(df.isna().sum() / df.shape[0], columns = [\"%Nulos\"])"
   ]
  },
  {
   "cell_type": "markdown",
   "id": "55054bf0",
   "metadata": {},
   "source": [
    "#### 1.9) Obtener la cantidad de valores únicos en las columnas categoricas.\n",
    "\n",
    "- Primero seleccionar las columnas categoricas\n",
    "- Luego correr nunique() en cada una **Fijarse de agregar el parametro dropna=False para tener en cuenta nulos**\n",
    "- Luego si quieren con unique() pueden ver cuales son aquellos valores únicos."
   ]
  },
  {
   "cell_type": "code",
   "execution_count": 15,
   "id": "4c1eeda3",
   "metadata": {
    "id": "ultimate-bleeding",
    "outputId": "a88cede8-3cc9-4aef-90f6-3531313ee5ed"
   },
   "outputs": [
    {
     "data": {
      "text/plain": [
       "rut                 9991\n",
       "estado_solicitud       2\n",
       "captacion              2\n",
       "dtype: int64"
      ]
     },
     "execution_count": 15,
     "metadata": {},
     "output_type": "execute_result"
    }
   ],
   "source": [
    "#Variables categoricas\n",
    "\n",
    "cat_df = df.select_dtypes(\"O\").columns\n",
    "\n",
    "df[cat_df].nunique(dropna=False)"
   ]
  },
  {
   "cell_type": "markdown",
   "id": "321263b6",
   "metadata": {},
   "source": [
    "#### 1.10) Calcular la distirbución por la variable captacion (cuantos registros hay por cada valor unico de captacion).\n",
    "\n",
    "Utilizar la funcion value_counts() y tener en cuenta dropna."
   ]
  },
  {
   "cell_type": "code",
   "execution_count": 16,
   "id": "6cd1c1e7",
   "metadata": {},
   "outputs": [
    {
     "data": {
      "text/plain": [
       "EXPRESS    5879\n",
       "NORMAL     4121\n",
       "Name: captacion, dtype: int64"
      ]
     },
     "execution_count": 16,
     "metadata": {},
     "output_type": "execute_result"
    }
   ],
   "source": [
    "df.captacion.value_counts(dropna=False)"
   ]
  },
  {
   "cell_type": "markdown",
   "id": "9793f6ad",
   "metadata": {},
   "source": [
    "Si lo queremos ver en %."
   ]
  },
  {
   "cell_type": "code",
   "execution_count": 17,
   "id": "5064e12e",
   "metadata": {},
   "outputs": [
    {
     "data": {
      "text/plain": [
       "EXPRESS    0.5879\n",
       "NORMAL     0.4121\n",
       "Name: captacion, dtype: float64"
      ]
     },
     "execution_count": 17,
     "metadata": {},
     "output_type": "execute_result"
    }
   ],
   "source": [
    "df.captacion.value_counts(1, dropna=False)"
   ]
  },
  {
   "cell_type": "markdown",
   "id": "moral-rochester",
   "metadata": {
    "id": "moral-rochester"
   },
   "source": [
    "### 2) Tratamiento de Datos"
   ]
  },
  {
   "cell_type": "markdown",
   "id": "cross-round",
   "metadata": {
    "id": "cross-round"
   },
   "source": [
    "#### 2.1) Imputacion de nulos \n",
    "\n",
    "Para esta parte vamos a usar el dataset \"df_variables\" que hace referencia al data2.csv"
   ]
  },
  {
   "cell_type": "markdown",
   "id": "subtle-contents",
   "metadata": {
    "id": "subtle-contents"
   },
   "source": [
    "#### Imputar las columnas predictor1_7 y predictor1_9 por el valor 100. \n",
    "\n",
    "Primero chequear que tengan nulos.\n",
    "\n",
    "**Pista:** Utilizar fillna()"
   ]
  },
  {
   "cell_type": "code",
   "execution_count": 18,
   "id": "answering-storage",
   "metadata": {
    "id": "answering-storage"
   },
   "outputs": [],
   "source": [
    "# Definimos las columnas que queremos imputar\n",
    "cols_to_impute = ['predictor1_7','predictor1_9']"
   ]
  },
  {
   "cell_type": "code",
   "execution_count": 19,
   "id": "polish-promotion",
   "metadata": {
    "id": "polish-promotion",
    "outputId": "4faaca84-86cc-4ec4-86a2-7010f52c2785"
   },
   "outputs": [
    {
     "data": {
      "text/plain": [
       "predictor1_7    3462\n",
       "predictor1_9    4244\n",
       "dtype: int64"
      ]
     },
     "execution_count": 19,
     "metadata": {},
     "output_type": "execute_result"
    }
   ],
   "source": [
    "# Nulos antes de imputar\n",
    "df_variables[cols_to_impute].isna().sum()"
   ]
  },
  {
   "cell_type": "code",
   "execution_count": 20,
   "id": "fourth-method",
   "metadata": {
    "id": "fourth-method"
   },
   "outputs": [],
   "source": [
    "# Imputamos con un valor hardcodeado\n",
    "df_variables[cols_to_impute] = df_variables[cols_to_impute].fillna(value=100)"
   ]
  },
  {
   "cell_type": "code",
   "execution_count": 21,
   "id": "bored-principle",
   "metadata": {
    "id": "bored-principle",
    "outputId": "5c2e24e8-e3fe-4942-badf-23fcf6ace7e7"
   },
   "outputs": [
    {
     "data": {
      "text/plain": [
       "predictor1_7    0\n",
       "predictor1_9    0\n",
       "dtype: int64"
      ]
     },
     "execution_count": 21,
     "metadata": {},
     "output_type": "execute_result"
    }
   ],
   "source": [
    "# Observamos nulos DESPUES de imputar\n",
    "df_variables[cols_to_impute].isna().sum()"
   ]
  },
  {
   "cell_type": "markdown",
   "id": "59549031",
   "metadata": {
    "id": "subtle-contents"
   },
   "source": [
    "#### Imputar las columnas predictor1_10 y predictor1_11 por la media de cada columna.\n",
    "\n",
    "Primero chequear que tengan nulos.\n",
    "\n",
    "**Pista:** Utilizar fillna()"
   ]
  },
  {
   "cell_type": "code",
   "execution_count": 22,
   "id": "entertaining-market",
   "metadata": {
    "id": "entertaining-market"
   },
   "outputs": [],
   "source": [
    "# Definimos las columnas que queremos imputar\n",
    "cols_to_impute = ['predictor1_10','predictor1_11']\n",
    "\n",
    "# Observamos los nulos ANTES de imputar\n",
    "df_variables[cols_to_impute].isna().sum()\n",
    "\n",
    "df_variables['predictor1_10'].fillna(df_variables['predictor1_10'].mean(), inplace=True)\n",
    "\n",
    "df_variables['predictor1_11'].fillna(df_variables['predictor1_11'].mean(), inplace=True)\n",
    "\n",
    "# Observamos los nulos DESPUES de imputar\n",
    "df_variables[cols_to_impute].isna().sum()"
   ]
  },
  {
   "cell_type": "markdown",
   "id": "polish-discrimination",
   "metadata": {
    "id": "polish-discrimination"
   },
   "source": [
    "#### 2.2) Tratamiento strings: upper, lower, replace\n",
    "\n",
    "Para esta parte vamos a usar el dataset \"df\" que hace referencia al data1.csv\n",
    "\n",
    "Muchas veces hay que realizar cambios en variables que vienen como string, por ejemplo, llevar todo a mayúsculas, minúsculas, reemplazar un simbolo, dividir por algún valor (*split*), etc. Pandas trae incorporada distintas funciones que nos ayudan a cumplir estas tareas. La forma de acceder a estas funciones es la siguiente:\n",
    "\n",
    "``` pd.Series.str.#funcion```\n",
    "\n",
    "``` tu_df.tu_columna.str.upper()```\n",
    "\n",
    "A continuación se encuentran ejemplos de esto."
   ]
  },
  {
   "cell_type": "code",
   "execution_count": 27,
   "id": "religious-arabic",
   "metadata": {
    "id": "religious-arabic",
    "outputId": "6d31bd2f-e35a-4663-9953-a48f9005fa17"
   },
   "outputs": [
    {
     "data": {
      "text/html": [
       "<div>\n",
       "<style scoped>\n",
       "    .dataframe tbody tr th:only-of-type {\n",
       "        vertical-align: middle;\n",
       "    }\n",
       "\n",
       "    .dataframe tbody tr th {\n",
       "        vertical-align: top;\n",
       "    }\n",
       "\n",
       "    .dataframe thead th {\n",
       "        text-align: right;\n",
       "    }\n",
       "</style>\n",
       "<table border=\"1\" class=\"dataframe\">\n",
       "  <thead>\n",
       "    <tr style=\"text-align: right;\">\n",
       "      <th></th>\n",
       "      <th>rut</th>\n",
       "      <th>periodo</th>\n",
       "      <th>ind_activo</th>\n",
       "      <th>estado_solicitud</th>\n",
       "      <th>captacion</th>\n",
       "      <th>cant_tel</th>\n",
       "      <th>predictor1_6</th>\n",
       "      <th>marca_60d_6m_final</th>\n",
       "    </tr>\n",
       "  </thead>\n",
       "  <tbody>\n",
       "    <tr>\n",
       "      <th>0</th>\n",
       "      <td>PlDKtWGFBg</td>\n",
       "      <td>201909.0</td>\n",
       "      <td>0.0</td>\n",
       "      <td>Rechazado</td>\n",
       "      <td>NORMAL</td>\n",
       "      <td>1.0</td>\n",
       "      <td>596.0</td>\n",
       "      <td>1.0</td>\n",
       "    </tr>\n",
       "    <tr>\n",
       "      <th>1</th>\n",
       "      <td>MOAbr9v9ac</td>\n",
       "      <td>201810.0</td>\n",
       "      <td>1.0</td>\n",
       "      <td>Aprobado</td>\n",
       "      <td>EXPRESS</td>\n",
       "      <td>4.0</td>\n",
       "      <td>NaN</td>\n",
       "      <td>0.0</td>\n",
       "    </tr>\n",
       "    <tr>\n",
       "      <th>2</th>\n",
       "      <td>49L1vb3c2I</td>\n",
       "      <td>201909.0</td>\n",
       "      <td>1.0</td>\n",
       "      <td>Aprobado</td>\n",
       "      <td>NORMAL</td>\n",
       "      <td>3.0</td>\n",
       "      <td>633.0</td>\n",
       "      <td>0.0</td>\n",
       "    </tr>\n",
       "    <tr>\n",
       "      <th>3</th>\n",
       "      <td>7xM1iIFNCb</td>\n",
       "      <td>201812.0</td>\n",
       "      <td>1.0</td>\n",
       "      <td>Aprobado</td>\n",
       "      <td>EXPRESS</td>\n",
       "      <td>4.0</td>\n",
       "      <td>NaN</td>\n",
       "      <td>0.0</td>\n",
       "    </tr>\n",
       "    <tr>\n",
       "      <th>4</th>\n",
       "      <td>e2ayZYSD59</td>\n",
       "      <td>201809.0</td>\n",
       "      <td>1.0</td>\n",
       "      <td>Aprobado</td>\n",
       "      <td>NORMAL</td>\n",
       "      <td>0.0</td>\n",
       "      <td>NaN</td>\n",
       "      <td>0.0</td>\n",
       "    </tr>\n",
       "  </tbody>\n",
       "</table>\n",
       "</div>"
      ],
      "text/plain": [
       "          rut   periodo  ind_activo estado_solicitud captacion  cant_tel  \\\n",
       "0  PlDKtWGFBg  201909.0         0.0        Rechazado    NORMAL       1.0   \n",
       "1  MOAbr9v9ac  201810.0         1.0         Aprobado   EXPRESS       4.0   \n",
       "2  49L1vb3c2I  201909.0         1.0         Aprobado    NORMAL       3.0   \n",
       "3  7xM1iIFNCb  201812.0         1.0         Aprobado   EXPRESS       4.0   \n",
       "4  e2ayZYSD59  201809.0         1.0         Aprobado    NORMAL       0.0   \n",
       "\n",
       "   predictor1_6  marca_60d_6m_final  \n",
       "0         596.0                 1.0  \n",
       "1           NaN                 0.0  \n",
       "2         633.0                 0.0  \n",
       "3           NaN                 0.0  \n",
       "4           NaN                 0.0  "
      ]
     },
     "execution_count": 27,
     "metadata": {},
     "output_type": "execute_result"
    }
   ],
   "source": [
    "df.head()"
   ]
  },
  {
   "cell_type": "markdown",
   "id": "a8b55c27",
   "metadata": {},
   "source": [
    "#### Convertir los valores de captacion a letra miniscula."
   ]
  },
  {
   "cell_type": "code",
   "execution_count": null,
   "id": "reduced-peninsula",
   "metadata": {
    "id": "reduced-peninsula",
    "outputId": "64853963-4cea-463f-a3f9-1357cfb8af3f"
   },
   "outputs": [
    {
     "data": {
      "text/html": [
       "<div>\n",
       "<style scoped>\n",
       "    .dataframe tbody tr th:only-of-type {\n",
       "        vertical-align: middle;\n",
       "    }\n",
       "\n",
       "    .dataframe tbody tr th {\n",
       "        vertical-align: top;\n",
       "    }\n",
       "\n",
       "    .dataframe thead th {\n",
       "        text-align: right;\n",
       "    }\n",
       "</style>\n",
       "<table border=\"1\" class=\"dataframe\">\n",
       "  <thead>\n",
       "    <tr style=\"text-align: right;\">\n",
       "      <th></th>\n",
       "      <th>rut</th>\n",
       "      <th>periodo</th>\n",
       "      <th>archive</th>\n",
       "      <th>ind_activo</th>\n",
       "      <th>estado_solicitud</th>\n",
       "      <th>captacion</th>\n",
       "      <th>cant_tel</th>\n",
       "      <th>predictor1_6</th>\n",
       "      <th>marca_60d_6m_final</th>\n",
       "    </tr>\n",
       "  </thead>\n",
       "  <tbody>\n",
       "    <tr>\n",
       "      <th>0</th>\n",
       "      <td>PlDKtWGFBg</td>\n",
       "      <td>201909.0</td>\n",
       "      <td>20190930.0</td>\n",
       "      <td>0.0</td>\n",
       "      <td>Rechazado</td>\n",
       "      <td>normal</td>\n",
       "      <td>1.0</td>\n",
       "      <td>596.0</td>\n",
       "      <td>1.0</td>\n",
       "    </tr>\n",
       "    <tr>\n",
       "      <th>1</th>\n",
       "      <td>MOAbr9v9ac</td>\n",
       "      <td>201810.0</td>\n",
       "      <td>20181031.0</td>\n",
       "      <td>1.0</td>\n",
       "      <td>Aprobado</td>\n",
       "      <td>express</td>\n",
       "      <td>4.0</td>\n",
       "      <td>NaN</td>\n",
       "      <td>0.0</td>\n",
       "    </tr>\n",
       "    <tr>\n",
       "      <th>2</th>\n",
       "      <td>49L1vb3c2I</td>\n",
       "      <td>201909.0</td>\n",
       "      <td>20190930.0</td>\n",
       "      <td>1.0</td>\n",
       "      <td>Aprobado</td>\n",
       "      <td>normal</td>\n",
       "      <td>3.0</td>\n",
       "      <td>633.0</td>\n",
       "      <td>0.0</td>\n",
       "    </tr>\n",
       "    <tr>\n",
       "      <th>3</th>\n",
       "      <td>7xM1iIFNCb</td>\n",
       "      <td>201812.0</td>\n",
       "      <td>20181231.0</td>\n",
       "      <td>1.0</td>\n",
       "      <td>Aprobado</td>\n",
       "      <td>express</td>\n",
       "      <td>4.0</td>\n",
       "      <td>NaN</td>\n",
       "      <td>0.0</td>\n",
       "    </tr>\n",
       "    <tr>\n",
       "      <th>4</th>\n",
       "      <td>e2ayZYSD59</td>\n",
       "      <td>201809.0</td>\n",
       "      <td>20180930.0</td>\n",
       "      <td>1.0</td>\n",
       "      <td>Aprobado</td>\n",
       "      <td>normal</td>\n",
       "      <td>0.0</td>\n",
       "      <td>NaN</td>\n",
       "      <td>0.0</td>\n",
       "    </tr>\n",
       "  </tbody>\n",
       "</table>\n",
       "</div>"
      ],
      "text/plain": [
       "          rut   periodo     archive  ind_activo estado_solicitud captacion  \\\n",
       "0  PlDKtWGFBg  201909.0  20190930.0         0.0        Rechazado    normal   \n",
       "1  MOAbr9v9ac  201810.0  20181031.0         1.0         Aprobado   express   \n",
       "2  49L1vb3c2I  201909.0  20190930.0         1.0         Aprobado    normal   \n",
       "3  7xM1iIFNCb  201812.0  20181231.0         1.0         Aprobado   express   \n",
       "4  e2ayZYSD59  201809.0  20180930.0         1.0         Aprobado    normal   \n",
       "\n",
       "   cant_tel  predictor1_6  marca_60d_6m_final  \n",
       "0       1.0         596.0                 1.0  \n",
       "1       4.0           NaN                 0.0  \n",
       "2       3.0         633.0                 0.0  \n",
       "3       4.0           NaN                 0.0  \n",
       "4       0.0           NaN                 0.0  "
      ]
     },
     "execution_count": 63,
     "metadata": {},
     "output_type": "execute_result"
    }
   ],
   "source": [
    "#convertimos los valores a minusculas\n",
    "df.captacion = df.captacion.str.lower()\n",
    "df.head()"
   ]
  },
  {
   "cell_type": "markdown",
   "id": "religious-challenge",
   "metadata": {
    "id": "religious-challenge"
   },
   "source": [
    "#### Convertir los valores de vuelta a mayusculas"
   ]
  },
  {
   "cell_type": "code",
   "execution_count": null,
   "id": "recent-penetration",
   "metadata": {
    "id": "recent-penetration",
    "outputId": "91e7025b-4d64-4147-ad36-d637e76e02ce"
   },
   "outputs": [
    {
     "data": {
      "text/html": [
       "<div>\n",
       "<style scoped>\n",
       "    .dataframe tbody tr th:only-of-type {\n",
       "        vertical-align: middle;\n",
       "    }\n",
       "\n",
       "    .dataframe tbody tr th {\n",
       "        vertical-align: top;\n",
       "    }\n",
       "\n",
       "    .dataframe thead th {\n",
       "        text-align: right;\n",
       "    }\n",
       "</style>\n",
       "<table border=\"1\" class=\"dataframe\">\n",
       "  <thead>\n",
       "    <tr style=\"text-align: right;\">\n",
       "      <th></th>\n",
       "      <th>rut</th>\n",
       "      <th>periodo</th>\n",
       "      <th>archive</th>\n",
       "      <th>ind_activo</th>\n",
       "      <th>estado_solicitud</th>\n",
       "      <th>captacion</th>\n",
       "      <th>cant_tel</th>\n",
       "      <th>predictor1_6</th>\n",
       "      <th>marca_60d_6m_final</th>\n",
       "    </tr>\n",
       "  </thead>\n",
       "  <tbody>\n",
       "    <tr>\n",
       "      <th>0</th>\n",
       "      <td>PlDKtWGFBg</td>\n",
       "      <td>201909.0</td>\n",
       "      <td>20190930.0</td>\n",
       "      <td>0.0</td>\n",
       "      <td>Rechazado</td>\n",
       "      <td>NORMAL</td>\n",
       "      <td>1.0</td>\n",
       "      <td>596.0</td>\n",
       "      <td>1.0</td>\n",
       "    </tr>\n",
       "    <tr>\n",
       "      <th>1</th>\n",
       "      <td>MOAbr9v9ac</td>\n",
       "      <td>201810.0</td>\n",
       "      <td>20181031.0</td>\n",
       "      <td>1.0</td>\n",
       "      <td>Aprobado</td>\n",
       "      <td>EXPRESS</td>\n",
       "      <td>4.0</td>\n",
       "      <td>NaN</td>\n",
       "      <td>0.0</td>\n",
       "    </tr>\n",
       "    <tr>\n",
       "      <th>2</th>\n",
       "      <td>49L1vb3c2I</td>\n",
       "      <td>201909.0</td>\n",
       "      <td>20190930.0</td>\n",
       "      <td>1.0</td>\n",
       "      <td>Aprobado</td>\n",
       "      <td>NORMAL</td>\n",
       "      <td>3.0</td>\n",
       "      <td>633.0</td>\n",
       "      <td>0.0</td>\n",
       "    </tr>\n",
       "    <tr>\n",
       "      <th>3</th>\n",
       "      <td>7xM1iIFNCb</td>\n",
       "      <td>201812.0</td>\n",
       "      <td>20181231.0</td>\n",
       "      <td>1.0</td>\n",
       "      <td>Aprobado</td>\n",
       "      <td>EXPRESS</td>\n",
       "      <td>4.0</td>\n",
       "      <td>NaN</td>\n",
       "      <td>0.0</td>\n",
       "    </tr>\n",
       "    <tr>\n",
       "      <th>4</th>\n",
       "      <td>e2ayZYSD59</td>\n",
       "      <td>201809.0</td>\n",
       "      <td>20180930.0</td>\n",
       "      <td>1.0</td>\n",
       "      <td>Aprobado</td>\n",
       "      <td>NORMAL</td>\n",
       "      <td>0.0</td>\n",
       "      <td>NaN</td>\n",
       "      <td>0.0</td>\n",
       "    </tr>\n",
       "  </tbody>\n",
       "</table>\n",
       "</div>"
      ],
      "text/plain": [
       "          rut   periodo     archive  ind_activo estado_solicitud captacion  \\\n",
       "0  PlDKtWGFBg  201909.0  20190930.0         0.0        Rechazado    NORMAL   \n",
       "1  MOAbr9v9ac  201810.0  20181031.0         1.0         Aprobado   EXPRESS   \n",
       "2  49L1vb3c2I  201909.0  20190930.0         1.0         Aprobado    NORMAL   \n",
       "3  7xM1iIFNCb  201812.0  20181231.0         1.0         Aprobado   EXPRESS   \n",
       "4  e2ayZYSD59  201809.0  20180930.0         1.0         Aprobado    NORMAL   \n",
       "\n",
       "   cant_tel  predictor1_6  marca_60d_6m_final  \n",
       "0       1.0         596.0                 1.0  \n",
       "1       4.0           NaN                 0.0  \n",
       "2       3.0         633.0                 0.0  \n",
       "3       4.0           NaN                 0.0  \n",
       "4       0.0           NaN                 0.0  "
      ]
     },
     "execution_count": 64,
     "metadata": {},
     "output_type": "execute_result"
    }
   ],
   "source": [
    "df.captacion = df.captacion.str.upper()\n",
    "df.head()"
   ]
  },
  {
   "cell_type": "markdown",
   "id": "fundamental-danish",
   "metadata": {
    "id": "fundamental-danish"
   },
   "source": [
    "####  Ahora, si reemplazar algún simbolo por podemos usar la funcion ```str.replace```, la cual toma un substring y lo convierte en otro.\n",
    "Por ejemplo, reemplazar todas las \"ex\" por otro string en la columna ```captacion```"
   ]
  },
  {
   "cell_type": "code",
   "execution_count": 28,
   "id": "weighted-tonight",
   "metadata": {
    "id": "weighted-tonight",
    "outputId": "951abfa5-61bd-40ac-f524-4a0a05c7d5a0",
    "scrolled": true
   },
   "outputs": [
    {
     "data": {
      "text/html": [
       "<div>\n",
       "<style scoped>\n",
       "    .dataframe tbody tr th:only-of-type {\n",
       "        vertical-align: middle;\n",
       "    }\n",
       "\n",
       "    .dataframe tbody tr th {\n",
       "        vertical-align: top;\n",
       "    }\n",
       "\n",
       "    .dataframe thead th {\n",
       "        text-align: right;\n",
       "    }\n",
       "</style>\n",
       "<table border=\"1\" class=\"dataframe\">\n",
       "  <thead>\n",
       "    <tr style=\"text-align: right;\">\n",
       "      <th></th>\n",
       "      <th>rut</th>\n",
       "      <th>periodo</th>\n",
       "      <th>ind_activo</th>\n",
       "      <th>estado_solicitud</th>\n",
       "      <th>captacion</th>\n",
       "      <th>cant_tel</th>\n",
       "      <th>predictor1_6</th>\n",
       "      <th>marca_60d_6m_final</th>\n",
       "      <th>captacion_nuevo</th>\n",
       "    </tr>\n",
       "  </thead>\n",
       "  <tbody>\n",
       "    <tr>\n",
       "      <th>0</th>\n",
       "      <td>PlDKtWGFBg</td>\n",
       "      <td>201909.0</td>\n",
       "      <td>0.0</td>\n",
       "      <td>Rechazado</td>\n",
       "      <td>NORMAL</td>\n",
       "      <td>1.0</td>\n",
       "      <td>596.0</td>\n",
       "      <td>1.0</td>\n",
       "      <td>NORMAL</td>\n",
       "    </tr>\n",
       "    <tr>\n",
       "      <th>1</th>\n",
       "      <td>MOAbr9v9ac</td>\n",
       "      <td>201810.0</td>\n",
       "      <td>1.0</td>\n",
       "      <td>Aprobado</td>\n",
       "      <td>EXPRESS</td>\n",
       "      <td>4.0</td>\n",
       "      <td>NaN</td>\n",
       "      <td>0.0</td>\n",
       "      <td>VOLDEMORTPRESS</td>\n",
       "    </tr>\n",
       "    <tr>\n",
       "      <th>2</th>\n",
       "      <td>49L1vb3c2I</td>\n",
       "      <td>201909.0</td>\n",
       "      <td>1.0</td>\n",
       "      <td>Aprobado</td>\n",
       "      <td>NORMAL</td>\n",
       "      <td>3.0</td>\n",
       "      <td>633.0</td>\n",
       "      <td>0.0</td>\n",
       "      <td>NORMAL</td>\n",
       "    </tr>\n",
       "    <tr>\n",
       "      <th>3</th>\n",
       "      <td>7xM1iIFNCb</td>\n",
       "      <td>201812.0</td>\n",
       "      <td>1.0</td>\n",
       "      <td>Aprobado</td>\n",
       "      <td>EXPRESS</td>\n",
       "      <td>4.0</td>\n",
       "      <td>NaN</td>\n",
       "      <td>0.0</td>\n",
       "      <td>VOLDEMORTPRESS</td>\n",
       "    </tr>\n",
       "    <tr>\n",
       "      <th>4</th>\n",
       "      <td>e2ayZYSD59</td>\n",
       "      <td>201809.0</td>\n",
       "      <td>1.0</td>\n",
       "      <td>Aprobado</td>\n",
       "      <td>NORMAL</td>\n",
       "      <td>0.0</td>\n",
       "      <td>NaN</td>\n",
       "      <td>0.0</td>\n",
       "      <td>NORMAL</td>\n",
       "    </tr>\n",
       "  </tbody>\n",
       "</table>\n",
       "</div>"
      ],
      "text/plain": [
       "          rut   periodo  ind_activo estado_solicitud captacion  cant_tel  \\\n",
       "0  PlDKtWGFBg  201909.0         0.0        Rechazado    NORMAL       1.0   \n",
       "1  MOAbr9v9ac  201810.0         1.0         Aprobado   EXPRESS       4.0   \n",
       "2  49L1vb3c2I  201909.0         1.0         Aprobado    NORMAL       3.0   \n",
       "3  7xM1iIFNCb  201812.0         1.0         Aprobado   EXPRESS       4.0   \n",
       "4  e2ayZYSD59  201809.0         1.0         Aprobado    NORMAL       0.0   \n",
       "\n",
       "   predictor1_6  marca_60d_6m_final captacion_nuevo  \n",
       "0         596.0                 1.0          NORMAL  \n",
       "1           NaN                 0.0  VOLDEMORTPRESS  \n",
       "2         633.0                 0.0          NORMAL  \n",
       "3           NaN                 0.0  VOLDEMORTPRESS  \n",
       "4           NaN                 0.0          NORMAL  "
      ]
     },
     "execution_count": 28,
     "metadata": {},
     "output_type": "execute_result"
    }
   ],
   "source": [
    "df['captacion_nuevo'] = df.captacion.str.replace('EX','VOLDEMORT')\n",
    "df.head()"
   ]
  },
  {
   "cell_type": "markdown",
   "id": "aging-tiger",
   "metadata": {
    "id": "aging-tiger"
   },
   "source": [
    "#### 2.3) Tratamiento de duplicados "
   ]
  },
  {
   "cell_type": "markdown",
   "id": "interesting-influence",
   "metadata": {
    "id": "interesting-influence"
   },
   "source": [
    "**Creamos un dataFrame de prueba**"
   ]
  },
  {
   "cell_type": "code",
   "execution_count": null,
   "id": "nervous-reality",
   "metadata": {
    "id": "nervous-reality",
    "outputId": "b9d1b9a6-c696-457c-d908-33bcc5045a01"
   },
   "outputs": [
    {
     "name": "stdout",
     "output_type": "stream",
     "text": [
      "(8, 5)\n"
     ]
    },
    {
     "data": {
      "text/html": [
       "<div>\n",
       "<style scoped>\n",
       "    .dataframe tbody tr th:only-of-type {\n",
       "        vertical-align: middle;\n",
       "    }\n",
       "\n",
       "    .dataframe tbody tr th {\n",
       "        vertical-align: top;\n",
       "    }\n",
       "\n",
       "    .dataframe thead th {\n",
       "        text-align: right;\n",
       "    }\n",
       "</style>\n",
       "<table border=\"1\" class=\"dataframe\">\n",
       "  <thead>\n",
       "    <tr style=\"text-align: right;\">\n",
       "      <th></th>\n",
       "      <th>ID</th>\n",
       "      <th>Nombre</th>\n",
       "      <th>Apellido</th>\n",
       "      <th>Edad</th>\n",
       "      <th>Saldo</th>\n",
       "    </tr>\n",
       "  </thead>\n",
       "  <tbody>\n",
       "    <tr>\n",
       "      <th>0</th>\n",
       "      <td>1</td>\n",
       "      <td>Sigrid</td>\n",
       "      <td>Mannock</td>\n",
       "      <td>27</td>\n",
       "      <td>7.17</td>\n",
       "    </tr>\n",
       "    <tr>\n",
       "      <th>1</th>\n",
       "      <td>2</td>\n",
       "      <td>Kennedy</td>\n",
       "      <td>Donnell</td>\n",
       "      <td>31</td>\n",
       "      <td>1.90</td>\n",
       "    </tr>\n",
       "    <tr>\n",
       "      <th>2</th>\n",
       "      <td>3</td>\n",
       "      <td>Theodoric</td>\n",
       "      <td>Rivers</td>\n",
       "      <td>36</td>\n",
       "      <td>1.11</td>\n",
       "    </tr>\n",
       "    <tr>\n",
       "      <th>3</th>\n",
       "      <td>4</td>\n",
       "      <td>Sigrid</td>\n",
       "      <td>Mannock</td>\n",
       "      <td>27</td>\n",
       "      <td>7.17</td>\n",
       "    </tr>\n",
       "    <tr>\n",
       "      <th>4</th>\n",
       "      <td>5</td>\n",
       "      <td>Kennedy</td>\n",
       "      <td>Donnell</td>\n",
       "      <td>53</td>\n",
       "      <td>1.41</td>\n",
       "    </tr>\n",
       "    <tr>\n",
       "      <th>5</th>\n",
       "      <td>6</td>\n",
       "      <td>Beatrix</td>\n",
       "      <td>Parlett</td>\n",
       "      <td>48</td>\n",
       "      <td>6.69</td>\n",
       "    </tr>\n",
       "    <tr>\n",
       "      <th>6</th>\n",
       "      <td>7</td>\n",
       "      <td>Olimpia</td>\n",
       "      <td>Guenther</td>\n",
       "      <td>36</td>\n",
       "      <td>4.62</td>\n",
       "    </tr>\n",
       "    <tr>\n",
       "      <th>7</th>\n",
       "      <td>7</td>\n",
       "      <td>Olimpia</td>\n",
       "      <td>Guenther</td>\n",
       "      <td>36</td>\n",
       "      <td>4.62</td>\n",
       "    </tr>\n",
       "  </tbody>\n",
       "</table>\n",
       "</div>"
      ],
      "text/plain": [
       "   ID     Nombre  Apellido  Edad  Saldo\n",
       "0   1     Sigrid   Mannock    27   7.17\n",
       "1   2    Kennedy   Donnell    31   1.90\n",
       "2   3  Theodoric    Rivers    36   1.11\n",
       "3   4     Sigrid   Mannock    27   7.17\n",
       "4   5    Kennedy   Donnell    53   1.41\n",
       "5   6    Beatrix   Parlett    48   6.69\n",
       "6   7    Olimpia  Guenther    36   4.62\n",
       "7   7    Olimpia  Guenther    36   4.62"
      ]
     },
     "execution_count": 78,
     "metadata": {},
     "output_type": "execute_result"
    }
   ],
   "source": [
    "df_prueba = {'ID': [1, 2, 3, 4, 5, 6, 7, 7],\n",
    "             'Nombre': ['Sigrid', 'Kennedy', 'Theodoric', 'Sigrid', 'Kennedy', 'Beatrix', 'Olimpia', 'Olimpia'],\n",
    "             'Apellido': ['Mannock', 'Donnell', 'Rivers', 'Mannock', 'Donnell', 'Parlett', 'Guenther', 'Guenther'],\n",
    "             'Edad': [27, 31, 36, 27, 53, 48, 36, 36],\n",
    "             'Saldo': [7.17, 1.90, 1.11, 7.17, 1.41, 6.69, 4.62, 4.62]}\n",
    "df_prueba = pd.DataFrame(df_prueba, columns = ['ID', 'Nombre', 'Apellido', 'Edad', 'Saldo'])\n",
    "\n",
    "print(df_prueba.shape)\n",
    "df_prueba"
   ]
  },
  {
   "cell_type": "markdown",
   "id": "cardiovascular-enforcement",
   "metadata": {
    "id": "cardiovascular-enforcement"
   },
   "source": [
    "**Eliminamos duplicados en base a todas las columnas**"
   ]
  },
  {
   "cell_type": "code",
   "execution_count": null,
   "id": "compact-wells",
   "metadata": {
    "id": "compact-wells",
    "outputId": "8bfa05d7-f75a-4d9d-9650-47c7ef9ad060"
   },
   "outputs": [
    {
     "name": "stdout",
     "output_type": "stream",
     "text": [
      "(7, 5)\n"
     ]
    },
    {
     "data": {
      "text/html": [
       "<div>\n",
       "<style scoped>\n",
       "    .dataframe tbody tr th:only-of-type {\n",
       "        vertical-align: middle;\n",
       "    }\n",
       "\n",
       "    .dataframe tbody tr th {\n",
       "        vertical-align: top;\n",
       "    }\n",
       "\n",
       "    .dataframe thead th {\n",
       "        text-align: right;\n",
       "    }\n",
       "</style>\n",
       "<table border=\"1\" class=\"dataframe\">\n",
       "  <thead>\n",
       "    <tr style=\"text-align: right;\">\n",
       "      <th></th>\n",
       "      <th>ID</th>\n",
       "      <th>Nombre</th>\n",
       "      <th>Apellido</th>\n",
       "      <th>Edad</th>\n",
       "      <th>Saldo</th>\n",
       "    </tr>\n",
       "  </thead>\n",
       "  <tbody>\n",
       "    <tr>\n",
       "      <th>0</th>\n",
       "      <td>1</td>\n",
       "      <td>Sigrid</td>\n",
       "      <td>Mannock</td>\n",
       "      <td>27</td>\n",
       "      <td>7.17</td>\n",
       "    </tr>\n",
       "    <tr>\n",
       "      <th>1</th>\n",
       "      <td>2</td>\n",
       "      <td>Kennedy</td>\n",
       "      <td>Donnell</td>\n",
       "      <td>31</td>\n",
       "      <td>1.90</td>\n",
       "    </tr>\n",
       "    <tr>\n",
       "      <th>2</th>\n",
       "      <td>3</td>\n",
       "      <td>Theodoric</td>\n",
       "      <td>Rivers</td>\n",
       "      <td>36</td>\n",
       "      <td>1.11</td>\n",
       "    </tr>\n",
       "    <tr>\n",
       "      <th>3</th>\n",
       "      <td>4</td>\n",
       "      <td>Sigrid</td>\n",
       "      <td>Mannock</td>\n",
       "      <td>27</td>\n",
       "      <td>7.17</td>\n",
       "    </tr>\n",
       "    <tr>\n",
       "      <th>4</th>\n",
       "      <td>5</td>\n",
       "      <td>Kennedy</td>\n",
       "      <td>Donnell</td>\n",
       "      <td>53</td>\n",
       "      <td>1.41</td>\n",
       "    </tr>\n",
       "    <tr>\n",
       "      <th>5</th>\n",
       "      <td>6</td>\n",
       "      <td>Beatrix</td>\n",
       "      <td>Parlett</td>\n",
       "      <td>48</td>\n",
       "      <td>6.69</td>\n",
       "    </tr>\n",
       "    <tr>\n",
       "      <th>6</th>\n",
       "      <td>7</td>\n",
       "      <td>Olimpia</td>\n",
       "      <td>Guenther</td>\n",
       "      <td>36</td>\n",
       "      <td>4.62</td>\n",
       "    </tr>\n",
       "  </tbody>\n",
       "</table>\n",
       "</div>"
      ],
      "text/plain": [
       "   ID     Nombre  Apellido  Edad  Saldo\n",
       "0   1     Sigrid   Mannock    27   7.17\n",
       "1   2    Kennedy   Donnell    31   1.90\n",
       "2   3  Theodoric    Rivers    36   1.11\n",
       "3   4     Sigrid   Mannock    27   7.17\n",
       "4   5    Kennedy   Donnell    53   1.41\n",
       "5   6    Beatrix   Parlett    48   6.69\n",
       "6   7    Olimpia  Guenther    36   4.62"
      ]
     },
     "execution_count": 79,
     "metadata": {},
     "output_type": "execute_result"
    }
   ],
   "source": [
    "df_prueba_1 = df_prueba.drop_duplicates()\n",
    "print(df_prueba_1.shape)\n",
    "df_prueba_1"
   ]
  },
  {
   "cell_type": "markdown",
   "id": "treated-shanghai",
   "metadata": {
    "id": "treated-shanghai"
   },
   "source": [
    "**Eliminamos duplicados en base a un conjunto de columnas. Por defecto se queda con el primer registro**"
   ]
  },
  {
   "cell_type": "code",
   "execution_count": null,
   "id": "raised-awareness",
   "metadata": {
    "id": "raised-awareness",
    "outputId": "3e59cfec-0b48-4188-f3c0-596b1ebd14ba"
   },
   "outputs": [
    {
     "name": "stdout",
     "output_type": "stream",
     "text": [
      "(5, 5)\n"
     ]
    },
    {
     "data": {
      "text/html": [
       "<div>\n",
       "<style scoped>\n",
       "    .dataframe tbody tr th:only-of-type {\n",
       "        vertical-align: middle;\n",
       "    }\n",
       "\n",
       "    .dataframe tbody tr th {\n",
       "        vertical-align: top;\n",
       "    }\n",
       "\n",
       "    .dataframe thead th {\n",
       "        text-align: right;\n",
       "    }\n",
       "</style>\n",
       "<table border=\"1\" class=\"dataframe\">\n",
       "  <thead>\n",
       "    <tr style=\"text-align: right;\">\n",
       "      <th></th>\n",
       "      <th>ID</th>\n",
       "      <th>Nombre</th>\n",
       "      <th>Apellido</th>\n",
       "      <th>Edad</th>\n",
       "      <th>Saldo</th>\n",
       "    </tr>\n",
       "  </thead>\n",
       "  <tbody>\n",
       "    <tr>\n",
       "      <th>0</th>\n",
       "      <td>1</td>\n",
       "      <td>Sigrid</td>\n",
       "      <td>Mannock</td>\n",
       "      <td>27</td>\n",
       "      <td>7.17</td>\n",
       "    </tr>\n",
       "    <tr>\n",
       "      <th>1</th>\n",
       "      <td>2</td>\n",
       "      <td>Kennedy</td>\n",
       "      <td>Donnell</td>\n",
       "      <td>31</td>\n",
       "      <td>1.90</td>\n",
       "    </tr>\n",
       "    <tr>\n",
       "      <th>2</th>\n",
       "      <td>3</td>\n",
       "      <td>Theodoric</td>\n",
       "      <td>Rivers</td>\n",
       "      <td>36</td>\n",
       "      <td>1.11</td>\n",
       "    </tr>\n",
       "    <tr>\n",
       "      <th>5</th>\n",
       "      <td>6</td>\n",
       "      <td>Beatrix</td>\n",
       "      <td>Parlett</td>\n",
       "      <td>48</td>\n",
       "      <td>6.69</td>\n",
       "    </tr>\n",
       "    <tr>\n",
       "      <th>6</th>\n",
       "      <td>7</td>\n",
       "      <td>Olimpia</td>\n",
       "      <td>Guenther</td>\n",
       "      <td>36</td>\n",
       "      <td>4.62</td>\n",
       "    </tr>\n",
       "  </tbody>\n",
       "</table>\n",
       "</div>"
      ],
      "text/plain": [
       "   ID     Nombre  Apellido  Edad  Saldo\n",
       "0   1     Sigrid   Mannock    27   7.17\n",
       "1   2    Kennedy   Donnell    31   1.90\n",
       "2   3  Theodoric    Rivers    36   1.11\n",
       "5   6    Beatrix   Parlett    48   6.69\n",
       "6   7    Olimpia  Guenther    36   4.62"
      ]
     },
     "execution_count": 80,
     "metadata": {},
     "output_type": "execute_result"
    }
   ],
   "source": [
    "df_prueba_1 = df_prueba.drop_duplicates(['Nombre', 'Apellido'])\n",
    "print(df_prueba_1.shape)\n",
    "df_prueba_1"
   ]
  },
  {
   "cell_type": "markdown",
   "id": "noble-penalty",
   "metadata": {
    "id": "noble-penalty"
   },
   "source": [
    "**Nos quedamos con el último registro**"
   ]
  },
  {
   "cell_type": "code",
   "execution_count": null,
   "id": "spare-wildlife",
   "metadata": {
    "id": "spare-wildlife",
    "outputId": "3e469f1f-8d38-41e7-f100-c99a757d4265"
   },
   "outputs": [
    {
     "name": "stdout",
     "output_type": "stream",
     "text": [
      "(5, 5)\n"
     ]
    },
    {
     "data": {
      "text/html": [
       "<div>\n",
       "<style scoped>\n",
       "    .dataframe tbody tr th:only-of-type {\n",
       "        vertical-align: middle;\n",
       "    }\n",
       "\n",
       "    .dataframe tbody tr th {\n",
       "        vertical-align: top;\n",
       "    }\n",
       "\n",
       "    .dataframe thead th {\n",
       "        text-align: right;\n",
       "    }\n",
       "</style>\n",
       "<table border=\"1\" class=\"dataframe\">\n",
       "  <thead>\n",
       "    <tr style=\"text-align: right;\">\n",
       "      <th></th>\n",
       "      <th>ID</th>\n",
       "      <th>Nombre</th>\n",
       "      <th>Apellido</th>\n",
       "      <th>Edad</th>\n",
       "      <th>Saldo</th>\n",
       "    </tr>\n",
       "  </thead>\n",
       "  <tbody>\n",
       "    <tr>\n",
       "      <th>2</th>\n",
       "      <td>3</td>\n",
       "      <td>Theodoric</td>\n",
       "      <td>Rivers</td>\n",
       "      <td>36</td>\n",
       "      <td>1.11</td>\n",
       "    </tr>\n",
       "    <tr>\n",
       "      <th>3</th>\n",
       "      <td>4</td>\n",
       "      <td>Sigrid</td>\n",
       "      <td>Mannock</td>\n",
       "      <td>27</td>\n",
       "      <td>7.17</td>\n",
       "    </tr>\n",
       "    <tr>\n",
       "      <th>4</th>\n",
       "      <td>5</td>\n",
       "      <td>Kennedy</td>\n",
       "      <td>Donnell</td>\n",
       "      <td>53</td>\n",
       "      <td>1.41</td>\n",
       "    </tr>\n",
       "    <tr>\n",
       "      <th>5</th>\n",
       "      <td>6</td>\n",
       "      <td>Beatrix</td>\n",
       "      <td>Parlett</td>\n",
       "      <td>48</td>\n",
       "      <td>6.69</td>\n",
       "    </tr>\n",
       "    <tr>\n",
       "      <th>7</th>\n",
       "      <td>7</td>\n",
       "      <td>Olimpia</td>\n",
       "      <td>Guenther</td>\n",
       "      <td>36</td>\n",
       "      <td>4.62</td>\n",
       "    </tr>\n",
       "  </tbody>\n",
       "</table>\n",
       "</div>"
      ],
      "text/plain": [
       "   ID     Nombre  Apellido  Edad  Saldo\n",
       "2   3  Theodoric    Rivers    36   1.11\n",
       "3   4     Sigrid   Mannock    27   7.17\n",
       "4   5    Kennedy   Donnell    53   1.41\n",
       "5   6    Beatrix   Parlett    48   6.69\n",
       "7   7    Olimpia  Guenther    36   4.62"
      ]
     },
     "execution_count": 81,
     "metadata": {},
     "output_type": "execute_result"
    }
   ],
   "source": [
    "df_prueba_1 = df_prueba.drop_duplicates(['Nombre', 'Apellido'], keep='last')\n",
    "print(df_prueba_1.shape)\n",
    "df_prueba_1"
   ]
  },
  {
   "cell_type": "markdown",
   "id": "relative-genome",
   "metadata": {
    "id": "relative-genome"
   },
   "source": [
    "**=======================================================================================================================**"
   ]
  },
  {
   "cell_type": "markdown",
   "id": "transparent-trading",
   "metadata": {
    "id": "transparent-trading"
   },
   "source": [
    "### Joinear datasets\n",
    "\n",
    "**En esta NB se van a mostrar los dos tipos de join mas usados, inner join y left join**\n",
    "\n",
    "***1) Inner join***\n",
    "\n",
    "![image-2.png](attachment:image-2.png)\n",
    "\n",
    "***2) Left join***\n",
    "\n",
    "![image.png](attachment:image.png)\n",
    "\n",
    "\n",
    "\n",
    "\n",
    "Para realizar joins cómo lo hacemos en sql, lo más común es usar la funcion MERGE de la liberaria pandas. Luego tenemos distintas opciones para \"joinear\", \"mergear\" o juntar información de dos dataframes, como pueden ser \"join\" o \"concat\"."
   ]
  },
  {
   "cell_type": "markdown",
   "id": "appreciated-maker",
   "metadata": {
    "id": "appreciated-maker"
   },
   "source": [
    "**Merge**\n",
    "\n",
    "**Código**:\n",
    "\n",
    "```pd.merge(left_df, right_df, on=['claves de fusion'], how='inner'/'left'/'right')```\n",
    "```\n",
    "pd.merge(\n",
    "    left,\n",
    "    right,\n",
    "    how: str = 'inner',\n",
    "    on=None,\n",
    "    left_on=None,\n",
    "    right_on=None,\n",
    "    left_index: bool = False,\n",
    "    right_index: bool = False,\n",
    "    sort: bool = False,\n",
    "    suffixes=('_x', '_y'),\n",
    "    copy: bool = True,\n",
    "    indicator: bool = False,\n",
    "    validate=None,\n",
    ") ```\n",
    "\n",
    "\n",
    "Joineemos los dos dataframes que tenemos, por las claves de fusion que serán rut, archive y periodo.\n",
    "\n",
    "**Inner join**"
   ]
  },
  {
   "cell_type": "code",
   "execution_count": null,
   "id": "becoming-chuck",
   "metadata": {
    "id": "becoming-chuck",
    "outputId": "c5193097-5c1a-4be4-cef9-d2cd72c24b48"
   },
   "outputs": [
    {
     "data": {
      "text/html": [
       "<div>\n",
       "<style scoped>\n",
       "    .dataframe tbody tr th:only-of-type {\n",
       "        vertical-align: middle;\n",
       "    }\n",
       "\n",
       "    .dataframe tbody tr th {\n",
       "        vertical-align: top;\n",
       "    }\n",
       "\n",
       "    .dataframe thead th {\n",
       "        text-align: right;\n",
       "    }\n",
       "</style>\n",
       "<table border=\"1\" class=\"dataframe\">\n",
       "  <thead>\n",
       "    <tr style=\"text-align: right;\">\n",
       "      <th></th>\n",
       "      <th>rut</th>\n",
       "      <th>periodo</th>\n",
       "      <th>archive</th>\n",
       "      <th>ind_activo</th>\n",
       "      <th>estado_solicitud</th>\n",
       "      <th>captacion</th>\n",
       "      <th>cant_tel</th>\n",
       "      <th>predictor1_6</th>\n",
       "      <th>marca_60d_6m_final</th>\n",
       "      <th>captacion_nuevo</th>\n",
       "      <th>asd</th>\n",
       "      <th>predictor1_7</th>\n",
       "      <th>predictor1_8</th>\n",
       "      <th>predictor1_9</th>\n",
       "      <th>predictor1_10</th>\n",
       "      <th>predictor1_11</th>\n",
       "      <th>predictor1_12</th>\n",
       "      <th>ignite_ise</th>\n",
       "      <th>ind_compra_paga</th>\n",
       "    </tr>\n",
       "  </thead>\n",
       "  <tbody>\n",
       "    <tr>\n",
       "      <th>0</th>\n",
       "      <td>PlDKtWGFBg</td>\n",
       "      <td>201909.0</td>\n",
       "      <td>20190930.0</td>\n",
       "      <td>0.0</td>\n",
       "      <td>Rechazado</td>\n",
       "      <td>NORMAL</td>\n",
       "      <td>1.0</td>\n",
       "      <td>596.0</td>\n",
       "      <td>1.0</td>\n",
       "      <td>NORMAL</td>\n",
       "      <td>0</td>\n",
       "      <td>551.0</td>\n",
       "      <td>506.0</td>\n",
       "      <td>506.0</td>\n",
       "      <td>640.000000</td>\n",
       "      <td>681.000000</td>\n",
       "      <td>861.76</td>\n",
       "      <td>D</td>\n",
       "      <td>0.0</td>\n",
       "    </tr>\n",
       "    <tr>\n",
       "      <th>1</th>\n",
       "      <td>MOAbr9v9ac</td>\n",
       "      <td>201810.0</td>\n",
       "      <td>20181031.0</td>\n",
       "      <td>1.0</td>\n",
       "      <td>Aprobado</td>\n",
       "      <td>EXPRESS</td>\n",
       "      <td>4.0</td>\n",
       "      <td>NaN</td>\n",
       "      <td>0.0</td>\n",
       "      <td>VOLDEMORTPRESS</td>\n",
       "      <td>1</td>\n",
       "      <td>100.0</td>\n",
       "      <td>NaN</td>\n",
       "      <td>100.0</td>\n",
       "      <td>582.519234</td>\n",
       "      <td>586.224898</td>\n",
       "      <td>861.76</td>\n",
       "      <td>C3</td>\n",
       "      <td>0.0</td>\n",
       "    </tr>\n",
       "    <tr>\n",
       "      <th>2</th>\n",
       "      <td>49L1vb3c2I</td>\n",
       "      <td>201909.0</td>\n",
       "      <td>20190930.0</td>\n",
       "      <td>1.0</td>\n",
       "      <td>Aprobado</td>\n",
       "      <td>NORMAL</td>\n",
       "      <td>3.0</td>\n",
       "      <td>633.0</td>\n",
       "      <td>0.0</td>\n",
       "      <td>NORMAL</td>\n",
       "      <td>0</td>\n",
       "      <td>544.0</td>\n",
       "      <td>675.0</td>\n",
       "      <td>675.0</td>\n",
       "      <td>749.000000</td>\n",
       "      <td>749.000000</td>\n",
       "      <td>861.76</td>\n",
       "      <td>D</td>\n",
       "      <td>0.0</td>\n",
       "    </tr>\n",
       "    <tr>\n",
       "      <th>3</th>\n",
       "      <td>7xM1iIFNCb</td>\n",
       "      <td>201812.0</td>\n",
       "      <td>20181231.0</td>\n",
       "      <td>1.0</td>\n",
       "      <td>Aprobado</td>\n",
       "      <td>EXPRESS</td>\n",
       "      <td>4.0</td>\n",
       "      <td>NaN</td>\n",
       "      <td>0.0</td>\n",
       "      <td>VOLDEMORTPRESS</td>\n",
       "      <td>1</td>\n",
       "      <td>100.0</td>\n",
       "      <td>NaN</td>\n",
       "      <td>100.0</td>\n",
       "      <td>582.519234</td>\n",
       "      <td>586.224898</td>\n",
       "      <td>861.76</td>\n",
       "      <td>E</td>\n",
       "      <td>0.0</td>\n",
       "    </tr>\n",
       "    <tr>\n",
       "      <th>4</th>\n",
       "      <td>e2ayZYSD59</td>\n",
       "      <td>201809.0</td>\n",
       "      <td>20180930.0</td>\n",
       "      <td>1.0</td>\n",
       "      <td>Aprobado</td>\n",
       "      <td>NORMAL</td>\n",
       "      <td>0.0</td>\n",
       "      <td>NaN</td>\n",
       "      <td>0.0</td>\n",
       "      <td>NORMAL</td>\n",
       "      <td>0</td>\n",
       "      <td>100.0</td>\n",
       "      <td>NaN</td>\n",
       "      <td>100.0</td>\n",
       "      <td>582.519234</td>\n",
       "      <td>586.224898</td>\n",
       "      <td>861.76</td>\n",
       "      <td>E</td>\n",
       "      <td>0.0</td>\n",
       "    </tr>\n",
       "  </tbody>\n",
       "</table>\n",
       "</div>"
      ],
      "text/plain": [
       "          rut   periodo     archive  ind_activo estado_solicitud captacion  \\\n",
       "0  PlDKtWGFBg  201909.0  20190930.0         0.0        Rechazado    NORMAL   \n",
       "1  MOAbr9v9ac  201810.0  20181031.0         1.0         Aprobado   EXPRESS   \n",
       "2  49L1vb3c2I  201909.0  20190930.0         1.0         Aprobado    NORMAL   \n",
       "3  7xM1iIFNCb  201812.0  20181231.0         1.0         Aprobado   EXPRESS   \n",
       "4  e2ayZYSD59  201809.0  20180930.0         1.0         Aprobado    NORMAL   \n",
       "\n",
       "   cant_tel  predictor1_6  marca_60d_6m_final captacion_nuevo  asd  \\\n",
       "0       1.0         596.0                 1.0          NORMAL    0   \n",
       "1       4.0           NaN                 0.0  VOLDEMORTPRESS    1   \n",
       "2       3.0         633.0                 0.0          NORMAL    0   \n",
       "3       4.0           NaN                 0.0  VOLDEMORTPRESS    1   \n",
       "4       0.0           NaN                 0.0          NORMAL    0   \n",
       "\n",
       "   predictor1_7  predictor1_8  predictor1_9  predictor1_10  predictor1_11  \\\n",
       "0         551.0         506.0         506.0     640.000000     681.000000   \n",
       "1         100.0           NaN         100.0     582.519234     586.224898   \n",
       "2         544.0         675.0         675.0     749.000000     749.000000   \n",
       "3         100.0           NaN         100.0     582.519234     586.224898   \n",
       "4         100.0           NaN         100.0     582.519234     586.224898   \n",
       "\n",
       "   predictor1_12 ignite_ise  ind_compra_paga  \n",
       "0         861.76          D              0.0  \n",
       "1         861.76         C3              0.0  \n",
       "2         861.76          D              0.0  \n",
       "3         861.76          E              0.0  \n",
       "4         861.76          E              0.0  "
      ]
     },
     "execution_count": 82,
     "metadata": {},
     "output_type": "execute_result"
    }
   ],
   "source": [
    "df_nuevo = pd.merge(df, df_variables, on=['rut', 'periodo', 'archive'], how='inner')\n",
    "\n",
    "df_nuevo.head()\n",
    "\n",
    "#df_nuevo = df.merge(df_variables,...).merge()"
   ]
  },
  {
   "cell_type": "markdown",
   "id": "municipal-repository",
   "metadata": {
    "id": "municipal-repository"
   },
   "source": [
    "Con el .head() podemos ver que el nuevo df contiene nuevas variables, las que agregamos desde df_variables. Vemos también que las variables que fueron clave de fusion no se duplicaron, lo cual es bueno. \n",
    "\n",
    "**Ahora ¿ Qué pasa si las claves de fusion se llaman distinto? Vamos a intentar replicar lo que en sql seria a.rut = b.rut and a.archive = b.archive, ....**\n",
    "\n",
    "A pesar de que las variables se llaman, y el código debajo no haria falta en este caso, muchas veces se van a encontrar con distintos nombres de claves de fusion."
   ]
  },
  {
   "cell_type": "code",
   "execution_count": null,
   "id": "accurate-council",
   "metadata": {
    "id": "accurate-council"
   },
   "outputs": [],
   "source": [
    "df_nuevo = df.merge(df_variables, left_on=['rut', 'periodo', 'archive'], right_on=['rut', 'periodo', 'archive'], \n",
    "                               how='inner')"
   ]
  },
  {
   "cell_type": "markdown",
   "id": "earned-catholic",
   "metadata": {
    "id": "earned-catholic"
   },
   "source": [
    "**Ejercicio**\n",
    "\n",
    "1) Realizar un left join pero sólo trayendo algunas variables del dataset df_variables:\n",
    "'predictor1_7', 'predictor1_8', 'predictor1_9', 'ignite_ise'\n",
    "\n",
    "Llamar a este dataframe df_merge."
   ]
  },
  {
   "cell_type": "code",
   "execution_count": null,
   "id": "periodic-dependence",
   "metadata": {
    "id": "periodic-dependence",
    "outputId": "3eb6d7f0-f6f9-490d-deee-593d5956535e"
   },
   "outputs": [
    {
     "data": {
      "text/html": [
       "<div>\n",
       "<style scoped>\n",
       "    .dataframe tbody tr th:only-of-type {\n",
       "        vertical-align: middle;\n",
       "    }\n",
       "\n",
       "    .dataframe tbody tr th {\n",
       "        vertical-align: top;\n",
       "    }\n",
       "\n",
       "    .dataframe thead th {\n",
       "        text-align: right;\n",
       "    }\n",
       "</style>\n",
       "<table border=\"1\" class=\"dataframe\">\n",
       "  <thead>\n",
       "    <tr style=\"text-align: right;\">\n",
       "      <th></th>\n",
       "      <th>rut</th>\n",
       "      <th>periodo</th>\n",
       "      <th>archive</th>\n",
       "      <th>ind_activo</th>\n",
       "      <th>estado_solicitud</th>\n",
       "      <th>captacion</th>\n",
       "      <th>cant_tel</th>\n",
       "      <th>predictor1_6</th>\n",
       "      <th>marca_60d_6m_final</th>\n",
       "      <th>captacion_nuevo</th>\n",
       "      <th>asd</th>\n",
       "      <th>predictor1_7</th>\n",
       "      <th>predictor1_8</th>\n",
       "      <th>predictor1_9</th>\n",
       "      <th>ignite_ise</th>\n",
       "    </tr>\n",
       "  </thead>\n",
       "  <tbody>\n",
       "    <tr>\n",
       "      <th>0</th>\n",
       "      <td>PlDKtWGFBg</td>\n",
       "      <td>201909.0</td>\n",
       "      <td>20190930.0</td>\n",
       "      <td>0.0</td>\n",
       "      <td>Rechazado</td>\n",
       "      <td>NORMAL</td>\n",
       "      <td>1.0</td>\n",
       "      <td>596.0</td>\n",
       "      <td>1.0</td>\n",
       "      <td>NORMAL</td>\n",
       "      <td>0</td>\n",
       "      <td>551.0</td>\n",
       "      <td>506.0</td>\n",
       "      <td>506.0</td>\n",
       "      <td>D</td>\n",
       "    </tr>\n",
       "    <tr>\n",
       "      <th>1</th>\n",
       "      <td>MOAbr9v9ac</td>\n",
       "      <td>201810.0</td>\n",
       "      <td>20181031.0</td>\n",
       "      <td>1.0</td>\n",
       "      <td>Aprobado</td>\n",
       "      <td>EXPRESS</td>\n",
       "      <td>4.0</td>\n",
       "      <td>NaN</td>\n",
       "      <td>0.0</td>\n",
       "      <td>VOLDEMORTPRESS</td>\n",
       "      <td>1</td>\n",
       "      <td>100.0</td>\n",
       "      <td>NaN</td>\n",
       "      <td>100.0</td>\n",
       "      <td>C3</td>\n",
       "    </tr>\n",
       "    <tr>\n",
       "      <th>2</th>\n",
       "      <td>49L1vb3c2I</td>\n",
       "      <td>201909.0</td>\n",
       "      <td>20190930.0</td>\n",
       "      <td>1.0</td>\n",
       "      <td>Aprobado</td>\n",
       "      <td>NORMAL</td>\n",
       "      <td>3.0</td>\n",
       "      <td>633.0</td>\n",
       "      <td>0.0</td>\n",
       "      <td>NORMAL</td>\n",
       "      <td>0</td>\n",
       "      <td>544.0</td>\n",
       "      <td>675.0</td>\n",
       "      <td>675.0</td>\n",
       "      <td>D</td>\n",
       "    </tr>\n",
       "    <tr>\n",
       "      <th>3</th>\n",
       "      <td>7xM1iIFNCb</td>\n",
       "      <td>201812.0</td>\n",
       "      <td>20181231.0</td>\n",
       "      <td>1.0</td>\n",
       "      <td>Aprobado</td>\n",
       "      <td>EXPRESS</td>\n",
       "      <td>4.0</td>\n",
       "      <td>NaN</td>\n",
       "      <td>0.0</td>\n",
       "      <td>VOLDEMORTPRESS</td>\n",
       "      <td>1</td>\n",
       "      <td>100.0</td>\n",
       "      <td>NaN</td>\n",
       "      <td>100.0</td>\n",
       "      <td>E</td>\n",
       "    </tr>\n",
       "    <tr>\n",
       "      <th>4</th>\n",
       "      <td>e2ayZYSD59</td>\n",
       "      <td>201809.0</td>\n",
       "      <td>20180930.0</td>\n",
       "      <td>1.0</td>\n",
       "      <td>Aprobado</td>\n",
       "      <td>NORMAL</td>\n",
       "      <td>0.0</td>\n",
       "      <td>NaN</td>\n",
       "      <td>0.0</td>\n",
       "      <td>NORMAL</td>\n",
       "      <td>0</td>\n",
       "      <td>100.0</td>\n",
       "      <td>NaN</td>\n",
       "      <td>100.0</td>\n",
       "      <td>E</td>\n",
       "    </tr>\n",
       "  </tbody>\n",
       "</table>\n",
       "</div>"
      ],
      "text/plain": [
       "          rut   periodo     archive  ind_activo estado_solicitud captacion  \\\n",
       "0  PlDKtWGFBg  201909.0  20190930.0         0.0        Rechazado    NORMAL   \n",
       "1  MOAbr9v9ac  201810.0  20181031.0         1.0         Aprobado   EXPRESS   \n",
       "2  49L1vb3c2I  201909.0  20190930.0         1.0         Aprobado    NORMAL   \n",
       "3  7xM1iIFNCb  201812.0  20181231.0         1.0         Aprobado   EXPRESS   \n",
       "4  e2ayZYSD59  201809.0  20180930.0         1.0         Aprobado    NORMAL   \n",
       "\n",
       "   cant_tel  predictor1_6  marca_60d_6m_final captacion_nuevo  asd  \\\n",
       "0       1.0         596.0                 1.0          NORMAL    0   \n",
       "1       4.0           NaN                 0.0  VOLDEMORTPRESS    1   \n",
       "2       3.0         633.0                 0.0          NORMAL    0   \n",
       "3       4.0           NaN                 0.0  VOLDEMORTPRESS    1   \n",
       "4       0.0           NaN                 0.0          NORMAL    0   \n",
       "\n",
       "   predictor1_7  predictor1_8  predictor1_9 ignite_ise  \n",
       "0         551.0         506.0         506.0          D  \n",
       "1         100.0           NaN         100.0         C3  \n",
       "2         544.0         675.0         675.0          D  \n",
       "3         100.0           NaN         100.0          E  \n",
       "4         100.0           NaN         100.0          E  "
      ]
     },
     "execution_count": 85,
     "metadata": {},
     "output_type": "execute_result"
    }
   ],
   "source": [
    "#Realizar left_join \n",
    "\n",
    "df_merge = pd.merge(df, df_variables[['rut', 'periodo', 'archive', 'predictor1_7', 'predictor1_8', 'predictor1_9', 'ignite_ise']]\n",
    "                                     , left_on=['rut', 'periodo', 'archive'], right_on=['rut', 'periodo', 'archive'], \n",
    "                               how='left')\n",
    "\n",
    "df_merge.head()"
   ]
  },
  {
   "cell_type": "markdown",
   "id": "material-active",
   "metadata": {
    "id": "material-active"
   },
   "source": [
    "2) Chequear shapes de ambos datasets (original y joineado) para ver si tenemos la misma cantidad de variables y no tenemos duplicados. "
   ]
  },
  {
   "cell_type": "code",
   "execution_count": null,
   "id": "environmental-luxembourg",
   "metadata": {
    "id": "environmental-luxembourg",
    "outputId": "652f1a7b-5b17-499e-e72e-6aa352895260",
    "scrolled": true
   },
   "outputs": [
    {
     "data": {
      "text/plain": [
       "(10000, 11)"
      ]
     },
     "metadata": {},
     "output_type": "display_data"
    },
    {
     "data": {
      "text/plain": [
       "(10000, 15)"
      ]
     },
     "metadata": {},
     "output_type": "display_data"
    }
   ],
   "source": [
    "display(df.shape,df_merge.shape)"
   ]
  },
  {
   "cell_type": "code",
   "execution_count": null,
   "id": "relative-novelty",
   "metadata": {
    "id": "relative-novelty",
    "outputId": "d7071fe4-4a11-4340-e5d3-d700698e5c73"
   },
   "outputs": [
    {
     "data": {
      "text/html": [
       "<div>\n",
       "<style scoped>\n",
       "    .dataframe tbody tr th:only-of-type {\n",
       "        vertical-align: middle;\n",
       "    }\n",
       "\n",
       "    .dataframe tbody tr th {\n",
       "        vertical-align: top;\n",
       "    }\n",
       "\n",
       "    .dataframe thead th {\n",
       "        text-align: right;\n",
       "    }\n",
       "</style>\n",
       "<table border=\"1\" class=\"dataframe\">\n",
       "  <thead>\n",
       "    <tr style=\"text-align: right;\">\n",
       "      <th></th>\n",
       "      <th>rut</th>\n",
       "      <th>periodo</th>\n",
       "      <th>archive</th>\n",
       "      <th>ind_activo</th>\n",
       "      <th>estado_solicitud</th>\n",
       "      <th>captacion</th>\n",
       "      <th>cant_tel</th>\n",
       "      <th>predictor1_6</th>\n",
       "      <th>marca_60d_6m_final</th>\n",
       "      <th>captacion_nuevo</th>\n",
       "      <th>asd</th>\n",
       "    </tr>\n",
       "  </thead>\n",
       "  <tbody>\n",
       "    <tr>\n",
       "      <th>0</th>\n",
       "      <td>PlDKtWGFBg</td>\n",
       "      <td>201909.0</td>\n",
       "      <td>20190930.0</td>\n",
       "      <td>0.0</td>\n",
       "      <td>Rechazado</td>\n",
       "      <td>NORMAL</td>\n",
       "      <td>1.0</td>\n",
       "      <td>596.0</td>\n",
       "      <td>1.0</td>\n",
       "      <td>NORMAL</td>\n",
       "      <td>0</td>\n",
       "    </tr>\n",
       "    <tr>\n",
       "      <th>1</th>\n",
       "      <td>MOAbr9v9ac</td>\n",
       "      <td>201810.0</td>\n",
       "      <td>20181031.0</td>\n",
       "      <td>1.0</td>\n",
       "      <td>Aprobado</td>\n",
       "      <td>EXPRESS</td>\n",
       "      <td>4.0</td>\n",
       "      <td>NaN</td>\n",
       "      <td>0.0</td>\n",
       "      <td>VOLDEMORTPRESS</td>\n",
       "      <td>1</td>\n",
       "    </tr>\n",
       "    <tr>\n",
       "      <th>2</th>\n",
       "      <td>49L1vb3c2I</td>\n",
       "      <td>201909.0</td>\n",
       "      <td>20190930.0</td>\n",
       "      <td>1.0</td>\n",
       "      <td>Aprobado</td>\n",
       "      <td>NORMAL</td>\n",
       "      <td>3.0</td>\n",
       "      <td>633.0</td>\n",
       "      <td>0.0</td>\n",
       "      <td>NORMAL</td>\n",
       "      <td>0</td>\n",
       "    </tr>\n",
       "    <tr>\n",
       "      <th>3</th>\n",
       "      <td>7xM1iIFNCb</td>\n",
       "      <td>201812.0</td>\n",
       "      <td>20181231.0</td>\n",
       "      <td>1.0</td>\n",
       "      <td>Aprobado</td>\n",
       "      <td>EXPRESS</td>\n",
       "      <td>4.0</td>\n",
       "      <td>NaN</td>\n",
       "      <td>0.0</td>\n",
       "      <td>VOLDEMORTPRESS</td>\n",
       "      <td>1</td>\n",
       "    </tr>\n",
       "    <tr>\n",
       "      <th>4</th>\n",
       "      <td>e2ayZYSD59</td>\n",
       "      <td>201809.0</td>\n",
       "      <td>20180930.0</td>\n",
       "      <td>1.0</td>\n",
       "      <td>Aprobado</td>\n",
       "      <td>NORMAL</td>\n",
       "      <td>0.0</td>\n",
       "      <td>NaN</td>\n",
       "      <td>0.0</td>\n",
       "      <td>NORMAL</td>\n",
       "      <td>0</td>\n",
       "    </tr>\n",
       "  </tbody>\n",
       "</table>\n",
       "</div>"
      ],
      "text/plain": [
       "          rut   periodo     archive  ind_activo estado_solicitud captacion  \\\n",
       "0  PlDKtWGFBg  201909.0  20190930.0         0.0        Rechazado    NORMAL   \n",
       "1  MOAbr9v9ac  201810.0  20181031.0         1.0         Aprobado   EXPRESS   \n",
       "2  49L1vb3c2I  201909.0  20190930.0         1.0         Aprobado    NORMAL   \n",
       "3  7xM1iIFNCb  201812.0  20181231.0         1.0         Aprobado   EXPRESS   \n",
       "4  e2ayZYSD59  201809.0  20180930.0         1.0         Aprobado    NORMAL   \n",
       "\n",
       "   cant_tel  predictor1_6  marca_60d_6m_final captacion_nuevo  asd  \n",
       "0       1.0         596.0                 1.0          NORMAL    0  \n",
       "1       4.0           NaN                 0.0  VOLDEMORTPRESS    1  \n",
       "2       3.0         633.0                 0.0          NORMAL    0  \n",
       "3       4.0           NaN                 0.0  VOLDEMORTPRESS    1  \n",
       "4       0.0           NaN                 0.0          NORMAL    0  "
      ]
     },
     "execution_count": 89,
     "metadata": {},
     "output_type": "execute_result"
    }
   ],
   "source": [
    "df.head()"
   ]
  },
  {
   "cell_type": "markdown",
   "id": "democratic-action",
   "metadata": {
    "id": "democratic-action"
   },
   "source": [
    "**Join - ejemplo**\n",
    "\n",
    "A pesar de que la mejor forma de joinear dataframes es utilizando MERGE, tenemos otra opciones como por ejemplo \"join\". La diferencia es que join no joinea por claves de fusion, sino que joinea por **ÍNDICE** (numero de fila en criollo). Por lo que si estamos seguros que el indice es el mismo en ambos dataframes, se puede joinear de esta manera."
   ]
  },
  {
   "cell_type": "code",
   "execution_count": null,
   "id": "native-capacity",
   "metadata": {
    "id": "native-capacity",
    "outputId": "fc3cd309-2d05-4a7a-fad4-afcabdd7a75b"
   },
   "outputs": [
    {
     "data": {
      "text/plain": [
       "(10000, 19)"
      ]
     },
     "execution_count": 91,
     "metadata": {},
     "output_type": "execute_result"
    }
   ],
   "source": [
    "df_join = df.join(df_variables.drop(columns=['rut', 'periodo', 'archive']), how='left')\n",
    "\n",
    "df_join.shape"
   ]
  },
  {
   "cell_type": "code",
   "execution_count": null,
   "id": "fifth-strength",
   "metadata": {
    "id": "fifth-strength",
    "outputId": "40a05999-16fc-4efd-b381-9e13d7eca8fd"
   },
   "outputs": [
    {
     "data": {
      "text/html": [
       "<div>\n",
       "<style scoped>\n",
       "    .dataframe tbody tr th:only-of-type {\n",
       "        vertical-align: middle;\n",
       "    }\n",
       "\n",
       "    .dataframe tbody tr th {\n",
       "        vertical-align: top;\n",
       "    }\n",
       "\n",
       "    .dataframe thead th {\n",
       "        text-align: right;\n",
       "    }\n",
       "</style>\n",
       "<table border=\"1\" class=\"dataframe\">\n",
       "  <thead>\n",
       "    <tr style=\"text-align: right;\">\n",
       "      <th></th>\n",
       "      <th></th>\n",
       "      <th>archive</th>\n",
       "      <th>ind_activo</th>\n",
       "      <th>estado_solicitud</th>\n",
       "      <th>captacion</th>\n",
       "      <th>cant_tel</th>\n",
       "      <th>predictor1_6</th>\n",
       "      <th>marca_60d_6m_final</th>\n",
       "      <th>captacion_nuevo</th>\n",
       "      <th>asd</th>\n",
       "      <th>predictor1_7</th>\n",
       "      <th>predictor1_8</th>\n",
       "      <th>predictor1_9</th>\n",
       "      <th>predictor1_10</th>\n",
       "      <th>predictor1_11</th>\n",
       "      <th>predictor1_12</th>\n",
       "      <th>ignite_ise</th>\n",
       "      <th>ind_compra_paga</th>\n",
       "    </tr>\n",
       "    <tr>\n",
       "      <th>rut</th>\n",
       "      <th>periodo</th>\n",
       "      <th></th>\n",
       "      <th></th>\n",
       "      <th></th>\n",
       "      <th></th>\n",
       "      <th></th>\n",
       "      <th></th>\n",
       "      <th></th>\n",
       "      <th></th>\n",
       "      <th></th>\n",
       "      <th></th>\n",
       "      <th></th>\n",
       "      <th></th>\n",
       "      <th></th>\n",
       "      <th></th>\n",
       "      <th></th>\n",
       "      <th></th>\n",
       "      <th></th>\n",
       "    </tr>\n",
       "  </thead>\n",
       "  <tbody>\n",
       "    <tr>\n",
       "      <th>PlDKtWGFBg</th>\n",
       "      <th>201909.0</th>\n",
       "      <td>20190930.0</td>\n",
       "      <td>0.0</td>\n",
       "      <td>Rechazado</td>\n",
       "      <td>NORMAL</td>\n",
       "      <td>1.0</td>\n",
       "      <td>596.0</td>\n",
       "      <td>1.0</td>\n",
       "      <td>NORMAL</td>\n",
       "      <td>0</td>\n",
       "      <td>551.0</td>\n",
       "      <td>506.0</td>\n",
       "      <td>506.0</td>\n",
       "      <td>640.000000</td>\n",
       "      <td>681.000000</td>\n",
       "      <td>861.76</td>\n",
       "      <td>D</td>\n",
       "      <td>0.0</td>\n",
       "    </tr>\n",
       "    <tr>\n",
       "      <th>MOAbr9v9ac</th>\n",
       "      <th>201810.0</th>\n",
       "      <td>20181031.0</td>\n",
       "      <td>1.0</td>\n",
       "      <td>Aprobado</td>\n",
       "      <td>EXPRESS</td>\n",
       "      <td>4.0</td>\n",
       "      <td>NaN</td>\n",
       "      <td>0.0</td>\n",
       "      <td>VOLDEMORTPRESS</td>\n",
       "      <td>1</td>\n",
       "      <td>100.0</td>\n",
       "      <td>NaN</td>\n",
       "      <td>100.0</td>\n",
       "      <td>582.519234</td>\n",
       "      <td>586.224898</td>\n",
       "      <td>861.76</td>\n",
       "      <td>C3</td>\n",
       "      <td>0.0</td>\n",
       "    </tr>\n",
       "    <tr>\n",
       "      <th>49L1vb3c2I</th>\n",
       "      <th>201909.0</th>\n",
       "      <td>20190930.0</td>\n",
       "      <td>1.0</td>\n",
       "      <td>Aprobado</td>\n",
       "      <td>NORMAL</td>\n",
       "      <td>3.0</td>\n",
       "      <td>633.0</td>\n",
       "      <td>0.0</td>\n",
       "      <td>NORMAL</td>\n",
       "      <td>0</td>\n",
       "      <td>544.0</td>\n",
       "      <td>675.0</td>\n",
       "      <td>675.0</td>\n",
       "      <td>749.000000</td>\n",
       "      <td>749.000000</td>\n",
       "      <td>861.76</td>\n",
       "      <td>D</td>\n",
       "      <td>0.0</td>\n",
       "    </tr>\n",
       "    <tr>\n",
       "      <th>7xM1iIFNCb</th>\n",
       "      <th>201812.0</th>\n",
       "      <td>20181231.0</td>\n",
       "      <td>1.0</td>\n",
       "      <td>Aprobado</td>\n",
       "      <td>EXPRESS</td>\n",
       "      <td>4.0</td>\n",
       "      <td>NaN</td>\n",
       "      <td>0.0</td>\n",
       "      <td>VOLDEMORTPRESS</td>\n",
       "      <td>1</td>\n",
       "      <td>100.0</td>\n",
       "      <td>NaN</td>\n",
       "      <td>100.0</td>\n",
       "      <td>582.519234</td>\n",
       "      <td>586.224898</td>\n",
       "      <td>861.76</td>\n",
       "      <td>E</td>\n",
       "      <td>0.0</td>\n",
       "    </tr>\n",
       "    <tr>\n",
       "      <th>e2ayZYSD59</th>\n",
       "      <th>201809.0</th>\n",
       "      <td>20180930.0</td>\n",
       "      <td>1.0</td>\n",
       "      <td>Aprobado</td>\n",
       "      <td>NORMAL</td>\n",
       "      <td>0.0</td>\n",
       "      <td>NaN</td>\n",
       "      <td>0.0</td>\n",
       "      <td>NORMAL</td>\n",
       "      <td>0</td>\n",
       "      <td>100.0</td>\n",
       "      <td>NaN</td>\n",
       "      <td>100.0</td>\n",
       "      <td>582.519234</td>\n",
       "      <td>586.224898</td>\n",
       "      <td>861.76</td>\n",
       "      <td>E</td>\n",
       "      <td>0.0</td>\n",
       "    </tr>\n",
       "  </tbody>\n",
       "</table>\n",
       "</div>"
      ],
      "text/plain": [
       "                        archive  ind_activo estado_solicitud captacion  \\\n",
       "rut        periodo                                                       \n",
       "PlDKtWGFBg 201909.0  20190930.0         0.0        Rechazado    NORMAL   \n",
       "MOAbr9v9ac 201810.0  20181031.0         1.0         Aprobado   EXPRESS   \n",
       "49L1vb3c2I 201909.0  20190930.0         1.0         Aprobado    NORMAL   \n",
       "7xM1iIFNCb 201812.0  20181231.0         1.0         Aprobado   EXPRESS   \n",
       "e2ayZYSD59 201809.0  20180930.0         1.0         Aprobado    NORMAL   \n",
       "\n",
       "                     cant_tel  predictor1_6  marca_60d_6m_final  \\\n",
       "rut        periodo                                                \n",
       "PlDKtWGFBg 201909.0       1.0         596.0                 1.0   \n",
       "MOAbr9v9ac 201810.0       4.0           NaN                 0.0   \n",
       "49L1vb3c2I 201909.0       3.0         633.0                 0.0   \n",
       "7xM1iIFNCb 201812.0       4.0           NaN                 0.0   \n",
       "e2ayZYSD59 201809.0       0.0           NaN                 0.0   \n",
       "\n",
       "                    captacion_nuevo  asd  predictor1_7  predictor1_8  \\\n",
       "rut        periodo                                                     \n",
       "PlDKtWGFBg 201909.0          NORMAL    0         551.0         506.0   \n",
       "MOAbr9v9ac 201810.0  VOLDEMORTPRESS    1         100.0           NaN   \n",
       "49L1vb3c2I 201909.0          NORMAL    0         544.0         675.0   \n",
       "7xM1iIFNCb 201812.0  VOLDEMORTPRESS    1         100.0           NaN   \n",
       "e2ayZYSD59 201809.0          NORMAL    0         100.0           NaN   \n",
       "\n",
       "                     predictor1_9  predictor1_10  predictor1_11  \\\n",
       "rut        periodo                                                \n",
       "PlDKtWGFBg 201909.0         506.0     640.000000     681.000000   \n",
       "MOAbr9v9ac 201810.0         100.0     582.519234     586.224898   \n",
       "49L1vb3c2I 201909.0         675.0     749.000000     749.000000   \n",
       "7xM1iIFNCb 201812.0         100.0     582.519234     586.224898   \n",
       "e2ayZYSD59 201809.0         100.0     582.519234     586.224898   \n",
       "\n",
       "                     predictor1_12 ignite_ise  ind_compra_paga  \n",
       "rut        periodo                                              \n",
       "PlDKtWGFBg 201909.0         861.76          D              0.0  \n",
       "MOAbr9v9ac 201810.0         861.76         C3              0.0  \n",
       "49L1vb3c2I 201909.0         861.76          D              0.0  \n",
       "7xM1iIFNCb 201812.0         861.76          E              0.0  \n",
       "e2ayZYSD59 201809.0         861.76          E              0.0  "
      ]
     },
     "execution_count": 94,
     "metadata": {},
     "output_type": "execute_result"
    }
   ],
   "source": [
    "prueba  = df_join.copy()\n",
    "prueba.set_index(['rut', 'periodo'], inplace=True)\n",
    "prueba.head()"
   ]
  },
  {
   "cell_type": "markdown",
   "id": "innocent-abortion",
   "metadata": {
    "id": "innocent-abortion"
   },
   "source": [
    "Otra desventaja de join es que no podemos tener las mismas columnas en ambas bases, es decir que si hacemos:\n",
    "\n",
    "``` df.join(df_variables, how='left')```\n",
    "\n",
    "Nos va a arrojar un error ya que rut, archive y periodo se encuentran en ambos datasets."
   ]
  },
  {
   "cell_type": "markdown",
   "id": "following-crystal",
   "metadata": {
    "id": "following-crystal"
   },
   "source": [
    "### Concat (apilar)"
   ]
  },
  {
   "cell_type": "code",
   "execution_count": null,
   "id": "universal-reminder",
   "metadata": {
    "id": "universal-reminder",
    "outputId": "8f1f17aa-b3f2-4f9d-affa-4e80c079b49c",
    "scrolled": true
   },
   "outputs": [
    {
     "name": "stdout",
     "output_type": "stream",
     "text": [
      "201807.0\n",
      "202003.0\n"
     ]
    }
   ],
   "source": [
    "# Revisamos los periodos\n",
    "print(df_variables.periodo.min())\n",
    "print(df_variables.periodo.max())"
   ]
  },
  {
   "cell_type": "markdown",
   "id": "referenced-harvard",
   "metadata": {
    "id": "referenced-harvard"
   },
   "source": [
    "#### Separamos el df en dos, en base a los periodos"
   ]
  },
  {
   "cell_type": "code",
   "execution_count": null,
   "id": "external-shakespeare",
   "metadata": {
    "id": "external-shakespeare",
    "outputId": "f3176afd-6873-4ae7-8eab-46b4d0732938"
   },
   "outputs": [
    {
     "data": {
      "text/html": [
       "<div>\n",
       "<style scoped>\n",
       "    .dataframe tbody tr th:only-of-type {\n",
       "        vertical-align: middle;\n",
       "    }\n",
       "\n",
       "    .dataframe tbody tr th {\n",
       "        vertical-align: top;\n",
       "    }\n",
       "\n",
       "    .dataframe thead th {\n",
       "        text-align: right;\n",
       "    }\n",
       "</style>\n",
       "<table border=\"1\" class=\"dataframe\">\n",
       "  <thead>\n",
       "    <tr style=\"text-align: right;\">\n",
       "      <th></th>\n",
       "      <th>periodo</th>\n",
       "      <th>predictor1_7</th>\n",
       "      <th>predictor1_9</th>\n",
       "      <th>ignite_ise</th>\n",
       "    </tr>\n",
       "  </thead>\n",
       "  <tbody>\n",
       "    <tr>\n",
       "      <th>0</th>\n",
       "      <td>201909.0</td>\n",
       "      <td>551.0</td>\n",
       "      <td>506.0</td>\n",
       "      <td>D</td>\n",
       "    </tr>\n",
       "    <tr>\n",
       "      <th>1</th>\n",
       "      <td>201810.0</td>\n",
       "      <td>100.0</td>\n",
       "      <td>100.0</td>\n",
       "      <td>C3</td>\n",
       "    </tr>\n",
       "    <tr>\n",
       "      <th>2</th>\n",
       "      <td>201909.0</td>\n",
       "      <td>544.0</td>\n",
       "      <td>675.0</td>\n",
       "      <td>D</td>\n",
       "    </tr>\n",
       "    <tr>\n",
       "      <th>3</th>\n",
       "      <td>201812.0</td>\n",
       "      <td>100.0</td>\n",
       "      <td>100.0</td>\n",
       "      <td>E</td>\n",
       "    </tr>\n",
       "    <tr>\n",
       "      <th>4</th>\n",
       "      <td>201809.0</td>\n",
       "      <td>100.0</td>\n",
       "      <td>100.0</td>\n",
       "      <td>E</td>\n",
       "    </tr>\n",
       "  </tbody>\n",
       "</table>\n",
       "</div>"
      ],
      "text/plain": [
       "    periodo  predictor1_7  predictor1_9 ignite_ise\n",
       "0  201909.0         551.0         506.0          D\n",
       "1  201810.0         100.0         100.0         C3\n",
       "2  201909.0         544.0         675.0          D\n",
       "3  201812.0         100.0         100.0          E\n",
       "4  201809.0         100.0         100.0          E"
      ]
     },
     "execution_count": 96,
     "metadata": {},
     "output_type": "execute_result"
    }
   ],
   "source": [
    "df_prueba1 = df_variables[df_variables['periodo'] <= 201912][['periodo','predictor1_7','predictor1_9','ignite_ise']]\n",
    "df_prueba1.head()"
   ]
  },
  {
   "cell_type": "code",
   "execution_count": null,
   "id": "strong-capability",
   "metadata": {
    "id": "strong-capability",
    "outputId": "0c21d823-b279-4890-fcbd-587bd03827c6"
   },
   "outputs": [
    {
     "name": "stdout",
     "output_type": "stream",
     "text": [
      "201807.0\n",
      "201912.0\n"
     ]
    }
   ],
   "source": [
    "print(df_prueba1.periodo.min())\n",
    "print(df_prueba1.periodo.max())"
   ]
  },
  {
   "cell_type": "code",
   "execution_count": null,
   "id": "frequent-colony",
   "metadata": {
    "id": "frequent-colony"
   },
   "outputs": [],
   "source": [
    "df_prueba2 = df_variables[df_variables['periodo'] > 201912][['periodo','predictor1_7','predictor1_9','ignite_ise']]"
   ]
  },
  {
   "cell_type": "code",
   "execution_count": null,
   "id": "hindu-potential",
   "metadata": {
    "id": "hindu-potential",
    "outputId": "f57f3bf2-332b-4ded-c05b-1d454296d03c",
    "scrolled": true
   },
   "outputs": [
    {
     "name": "stdout",
     "output_type": "stream",
     "text": [
      "202001.0\n",
      "202003.0\n"
     ]
    }
   ],
   "source": [
    "print(df_prueba2.periodo.min())\n",
    "print(df_prueba2.periodo.max())"
   ]
  },
  {
   "cell_type": "markdown",
   "id": "subsequent-baghdad",
   "metadata": {
    "id": "subsequent-baghdad"
   },
   "source": [
    "#### Listo"
   ]
  },
  {
   "cell_type": "code",
   "execution_count": null,
   "id": "confirmed-blair",
   "metadata": {
    "id": "confirmed-blair"
   },
   "outputs": [],
   "source": [
    "# Apilamos los dos dataframes. ATENCION: revisar que las columnas sean las mismas y en el mismo orden\n",
    "df_prueba_1y2 = pd.concat([df_prueba1, df_prueba2], axis=0, ignore_index=True)\n",
    "\n",
    "# Mencionar axis=1"
   ]
  },
  {
   "cell_type": "code",
   "execution_count": null,
   "id": "moderate-specification",
   "metadata": {
    "id": "moderate-specification",
    "outputId": "8019eb75-b206-4605-f492-703be959f661"
   },
   "outputs": [
    {
     "data": {
      "text/html": [
       "<div>\n",
       "<style scoped>\n",
       "    .dataframe tbody tr th:only-of-type {\n",
       "        vertical-align: middle;\n",
       "    }\n",
       "\n",
       "    .dataframe tbody tr th {\n",
       "        vertical-align: top;\n",
       "    }\n",
       "\n",
       "    .dataframe thead th {\n",
       "        text-align: right;\n",
       "    }\n",
       "</style>\n",
       "<table border=\"1\" class=\"dataframe\">\n",
       "  <thead>\n",
       "    <tr style=\"text-align: right;\">\n",
       "      <th></th>\n",
       "      <th>periodo</th>\n",
       "      <th>predictor1_7</th>\n",
       "      <th>predictor1_9</th>\n",
       "      <th>ignite_ise</th>\n",
       "    </tr>\n",
       "  </thead>\n",
       "  <tbody>\n",
       "    <tr>\n",
       "      <th>0</th>\n",
       "      <td>201909.0</td>\n",
       "      <td>551.0</td>\n",
       "      <td>506.0</td>\n",
       "      <td>D</td>\n",
       "    </tr>\n",
       "    <tr>\n",
       "      <th>1</th>\n",
       "      <td>201810.0</td>\n",
       "      <td>100.0</td>\n",
       "      <td>100.0</td>\n",
       "      <td>C3</td>\n",
       "    </tr>\n",
       "    <tr>\n",
       "      <th>2</th>\n",
       "      <td>201909.0</td>\n",
       "      <td>544.0</td>\n",
       "      <td>675.0</td>\n",
       "      <td>D</td>\n",
       "    </tr>\n",
       "    <tr>\n",
       "      <th>3</th>\n",
       "      <td>201812.0</td>\n",
       "      <td>100.0</td>\n",
       "      <td>100.0</td>\n",
       "      <td>E</td>\n",
       "    </tr>\n",
       "    <tr>\n",
       "      <th>4</th>\n",
       "      <td>201809.0</td>\n",
       "      <td>100.0</td>\n",
       "      <td>100.0</td>\n",
       "      <td>E</td>\n",
       "    </tr>\n",
       "  </tbody>\n",
       "</table>\n",
       "</div>"
      ],
      "text/plain": [
       "    periodo  predictor1_7  predictor1_9 ignite_ise\n",
       "0  201909.0         551.0         506.0          D\n",
       "1  201810.0         100.0         100.0         C3\n",
       "2  201909.0         544.0         675.0          D\n",
       "3  201812.0         100.0         100.0          E\n",
       "4  201809.0         100.0         100.0          E"
      ]
     },
     "execution_count": 106,
     "metadata": {},
     "output_type": "execute_result"
    }
   ],
   "source": [
    "df_prueba_1y2.head()"
   ]
  },
  {
   "cell_type": "code",
   "execution_count": null,
   "id": "given-belize",
   "metadata": {
    "id": "given-belize",
    "outputId": "1a9edd63-7076-430c-a547-e7cc896f4ab9"
   },
   "outputs": [
    {
     "name": "stdout",
     "output_type": "stream",
     "text": [
      "201807.0\n",
      "202003.0\n"
     ]
    }
   ],
   "source": [
    "# Chequeo -> Tiene que quedar igual que antes de dividir el df\n",
    "print(df_prueba_1y2.periodo.min())\n",
    "print(df_prueba_1y2.periodo.max())"
   ]
  },
  {
   "cell_type": "markdown",
   "id": "bulgarian-georgia",
   "metadata": {
    "id": "bulgarian-georgia"
   },
   "source": [
    "**=======================================================================================================================**"
   ]
  },
  {
   "cell_type": "markdown",
   "id": "unexpected-occasions",
   "metadata": {
    "id": "unexpected-occasions"
   },
   "source": [
    "### Pivot table\n",
    "\n",
    "Pivot table es otra forma de realizar group by, la cuál es muy facil de entender si estamos acostumbrados a trabajar con tablas dinamicas en excel.\n",
    "\n",
    "**Código:**\n",
    "\n",
    "```pd.pivot_table(data, index='variable o variables indice', columns='variable o variables de columna', values='variable sobre la cual se va a calcular suma/cuenta/media/..., aggfunc='funciones de agregación que se van a apicar a cada variable')```\n"
   ]
  },
  {
   "cell_type": "markdown",
   "id": "outside-antenna",
   "metadata": {
    "id": "outside-antenna"
   },
   "source": [
    "```pd.pivot_table(\n",
    "    data,\n",
    "    values=None,\n",
    "    index=None,\n",
    "    columns=None,\n",
    "    aggfunc='mean',\n",
    "    fill_value=None,\n",
    "    margins=False,\n",
    "    dropna=True,\n",
    "    margins_name='All',\n",
    "    observed=False,\n",
    ")```"
   ]
  },
  {
   "cell_type": "markdown",
   "id": "related-ireland",
   "metadata": {
    "id": "related-ireland"
   },
   "source": [
    "**Ejemplo - calcular la bad rate por periodo y la cantidad de registros:**"
   ]
  },
  {
   "cell_type": "markdown",
   "id": "suspected-external",
   "metadata": {
    "id": "suspected-external"
   },
   "source": [
    "Podemos ver que no usaremos parametro \"column\" ya que no hace falta, porque estamos agrupando por periodo y caluculando la media de marca malo (bad rate) y la cuenta de registros (0 y 1) por periodo."
   ]
  },
  {
   "cell_type": "code",
   "execution_count": null,
   "id": "welcome-system",
   "metadata": {
    "id": "welcome-system",
    "outputId": "84276de0-e0f8-4f62-9a44-6302d01e6ddb",
    "scrolled": true
   },
   "outputs": [
    {
     "data": {
      "text/html": [
       "<div>\n",
       "<style scoped>\n",
       "    .dataframe tbody tr th:only-of-type {\n",
       "        vertical-align: middle;\n",
       "    }\n",
       "\n",
       "    .dataframe tbody tr th {\n",
       "        vertical-align: top;\n",
       "    }\n",
       "\n",
       "    .dataframe thead tr th {\n",
       "        text-align: left;\n",
       "    }\n",
       "\n",
       "    .dataframe thead tr:last-of-type th {\n",
       "        text-align: right;\n",
       "    }\n",
       "</style>\n",
       "<table border=\"1\" class=\"dataframe\">\n",
       "  <thead>\n",
       "    <tr>\n",
       "      <th></th>\n",
       "      <th>mean</th>\n",
       "      <th>count</th>\n",
       "      <th>sum</th>\n",
       "    </tr>\n",
       "    <tr>\n",
       "      <th></th>\n",
       "      <th>marca_60d_6m_final</th>\n",
       "      <th>marca_60d_6m_final</th>\n",
       "      <th>marca_60d_6m_final</th>\n",
       "    </tr>\n",
       "    <tr>\n",
       "      <th>periodo</th>\n",
       "      <th></th>\n",
       "      <th></th>\n",
       "      <th></th>\n",
       "    </tr>\n",
       "  </thead>\n",
       "  <tbody>\n",
       "    <tr>\n",
       "      <th>201807.0</th>\n",
       "      <td>0.149378</td>\n",
       "      <td>482</td>\n",
       "      <td>72.0</td>\n",
       "    </tr>\n",
       "    <tr>\n",
       "      <th>201808.0</th>\n",
       "      <td>0.166667</td>\n",
       "      <td>468</td>\n",
       "      <td>78.0</td>\n",
       "    </tr>\n",
       "    <tr>\n",
       "      <th>201809.0</th>\n",
       "      <td>0.216802</td>\n",
       "      <td>369</td>\n",
       "      <td>80.0</td>\n",
       "    </tr>\n",
       "    <tr>\n",
       "      <th>201810.0</th>\n",
       "      <td>0.175153</td>\n",
       "      <td>491</td>\n",
       "      <td>86.0</td>\n",
       "    </tr>\n",
       "    <tr>\n",
       "      <th>201811.0</th>\n",
       "      <td>0.206897</td>\n",
       "      <td>493</td>\n",
       "      <td>102.0</td>\n",
       "    </tr>\n",
       "  </tbody>\n",
       "</table>\n",
       "</div>"
      ],
      "text/plain": [
       "                       mean              count                sum\n",
       "         marca_60d_6m_final marca_60d_6m_final marca_60d_6m_final\n",
       "periodo                                                          \n",
       "201807.0           0.149378                482               72.0\n",
       "201808.0           0.166667                468               78.0\n",
       "201809.0           0.216802                369               80.0\n",
       "201810.0           0.175153                491               86.0\n",
       "201811.0           0.206897                493              102.0"
      ]
     },
     "execution_count": 108,
     "metadata": {},
     "output_type": "execute_result"
    }
   ],
   "source": [
    "pd.pivot_table(df_merge, index='periodo', values='marca_60d_6m_final', aggfunc=['mean', 'count', 'sum']).head()"
   ]
  },
  {
   "cell_type": "markdown",
   "id": "controversial-effort",
   "metadata": {
    "id": "controversial-effort"
   },
   "source": [
    "**Ejemplo - Queremos ver la cantidad de malos y buenos por periodo**"
   ]
  },
  {
   "cell_type": "code",
   "execution_count": null,
   "id": "global-accommodation",
   "metadata": {
    "id": "global-accommodation",
    "outputId": "cceeae54-9461-4a0a-e0bd-a0217397bc6c"
   },
   "outputs": [
    {
     "data": {
      "text/html": [
       "<div>\n",
       "<style scoped>\n",
       "    .dataframe tbody tr th:only-of-type {\n",
       "        vertical-align: middle;\n",
       "    }\n",
       "\n",
       "    .dataframe tbody tr th {\n",
       "        vertical-align: top;\n",
       "    }\n",
       "\n",
       "    .dataframe thead th {\n",
       "        text-align: right;\n",
       "    }\n",
       "</style>\n",
       "<table border=\"1\" class=\"dataframe\">\n",
       "  <thead>\n",
       "    <tr style=\"text-align: right;\">\n",
       "      <th>marca_60d_6m_final</th>\n",
       "      <th>0.0</th>\n",
       "      <th>1.0</th>\n",
       "    </tr>\n",
       "    <tr>\n",
       "      <th>periodo</th>\n",
       "      <th></th>\n",
       "      <th></th>\n",
       "    </tr>\n",
       "  </thead>\n",
       "  <tbody>\n",
       "    <tr>\n",
       "      <th>201807.0</th>\n",
       "      <td>410</td>\n",
       "      <td>72</td>\n",
       "    </tr>\n",
       "    <tr>\n",
       "      <th>201808.0</th>\n",
       "      <td>390</td>\n",
       "      <td>78</td>\n",
       "    </tr>\n",
       "    <tr>\n",
       "      <th>201809.0</th>\n",
       "      <td>289</td>\n",
       "      <td>80</td>\n",
       "    </tr>\n",
       "    <tr>\n",
       "      <th>201810.0</th>\n",
       "      <td>405</td>\n",
       "      <td>86</td>\n",
       "    </tr>\n",
       "    <tr>\n",
       "      <th>201811.0</th>\n",
       "      <td>391</td>\n",
       "      <td>102</td>\n",
       "    </tr>\n",
       "  </tbody>\n",
       "</table>\n",
       "</div>"
      ],
      "text/plain": [
       "marca_60d_6m_final  0.0  1.0\n",
       "periodo                     \n",
       "201807.0            410   72\n",
       "201808.0            390   78\n",
       "201809.0            289   80\n",
       "201810.0            405   86\n",
       "201811.0            391  102"
      ]
     },
     "execution_count": 110,
     "metadata": {},
     "output_type": "execute_result"
    }
   ],
   "source": [
    "pd.pivot_table(df_merge, index='periodo', columns='marca_60d_6m_final', values='rut', aggfunc='count').head()"
   ]
  },
  {
   "cell_type": "markdown",
   "id": "major-reverse",
   "metadata": {
    "id": "major-reverse"
   },
   "source": [
    "Acá vemos que agregamos el parametro columna ya que queremos que cuente separando por marca malo (0 o 1). Como values pusimos rut ya que es una columna sin nulos que nos sirve para hacer el count."
   ]
  },
  {
   "cell_type": "markdown",
   "id": "romantic-metropolitan",
   "metadata": {
    "id": "romantic-metropolitan"
   },
   "source": [
    "**Ejemplo - agrupar por periodo (indice), ver por captacion (columnas) sobre las columnas rut (count) y cant_tel (media).**"
   ]
  },
  {
   "cell_type": "code",
   "execution_count": null,
   "id": "electronic-vitamin",
   "metadata": {
    "id": "electronic-vitamin",
    "outputId": "f111268c-aa06-4718-9d2b-4f9d1bbc9f0f"
   },
   "outputs": [
    {
     "data": {
      "text/html": [
       "<div>\n",
       "<style scoped>\n",
       "    .dataframe tbody tr th:only-of-type {\n",
       "        vertical-align: middle;\n",
       "    }\n",
       "\n",
       "    .dataframe tbody tr th {\n",
       "        vertical-align: top;\n",
       "    }\n",
       "\n",
       "    .dataframe thead tr th {\n",
       "        text-align: left;\n",
       "    }\n",
       "\n",
       "    .dataframe thead tr:last-of-type th {\n",
       "        text-align: right;\n",
       "    }\n",
       "</style>\n",
       "<table border=\"1\" class=\"dataframe\">\n",
       "  <thead>\n",
       "    <tr>\n",
       "      <th></th>\n",
       "      <th colspan=\"2\" halign=\"left\">cant_tel</th>\n",
       "      <th colspan=\"2\" halign=\"left\">rut</th>\n",
       "    </tr>\n",
       "    <tr>\n",
       "      <th>captacion</th>\n",
       "      <th>EXPRESS</th>\n",
       "      <th>NORMAL</th>\n",
       "      <th>EXPRESS</th>\n",
       "      <th>NORMAL</th>\n",
       "    </tr>\n",
       "    <tr>\n",
       "      <th>periodo</th>\n",
       "      <th></th>\n",
       "      <th></th>\n",
       "      <th></th>\n",
       "      <th></th>\n",
       "    </tr>\n",
       "  </thead>\n",
       "  <tbody>\n",
       "    <tr>\n",
       "      <th>201807.0</th>\n",
       "      <td>2.752688</td>\n",
       "      <td>2.029557</td>\n",
       "      <td>279</td>\n",
       "      <td>203</td>\n",
       "    </tr>\n",
       "    <tr>\n",
       "      <th>201808.0</th>\n",
       "      <td>2.850365</td>\n",
       "      <td>2.237113</td>\n",
       "      <td>274</td>\n",
       "      <td>194</td>\n",
       "    </tr>\n",
       "    <tr>\n",
       "      <th>201809.0</th>\n",
       "      <td>2.788546</td>\n",
       "      <td>2.169014</td>\n",
       "      <td>227</td>\n",
       "      <td>142</td>\n",
       "    </tr>\n",
       "    <tr>\n",
       "      <th>201810.0</th>\n",
       "      <td>2.752809</td>\n",
       "      <td>1.901786</td>\n",
       "      <td>267</td>\n",
       "      <td>224</td>\n",
       "    </tr>\n",
       "    <tr>\n",
       "      <th>201811.0</th>\n",
       "      <td>2.777778</td>\n",
       "      <td>2.038793</td>\n",
       "      <td>261</td>\n",
       "      <td>232</td>\n",
       "    </tr>\n",
       "  </tbody>\n",
       "</table>\n",
       "</div>"
      ],
      "text/plain": [
       "           cant_tel               rut       \n",
       "captacion   EXPRESS    NORMAL EXPRESS NORMAL\n",
       "periodo                                     \n",
       "201807.0   2.752688  2.029557     279    203\n",
       "201808.0   2.850365  2.237113     274    194\n",
       "201809.0   2.788546  2.169014     227    142\n",
       "201810.0   2.752809  1.901786     267    224\n",
       "201811.0   2.777778  2.038793     261    232"
      ]
     },
     "execution_count": 111,
     "metadata": {},
     "output_type": "execute_result"
    }
   ],
   "source": [
    "pd.pivot_table(df_merge, index='periodo', columns='captacion', values=['rut', 'cant_tel'],\n",
    "              aggfunc={'rut':'count',\n",
    "                      'cant_tel':'mean'}).head()"
   ]
  },
  {
   "cell_type": "markdown",
   "id": "chief-method",
   "metadata": {
    "id": "chief-method"
   },
   "source": [
    "Vemos que para mapear variable en values con la funcion, creamos un diccionario en aggfunc y elegimos que metrica calcularle a cada uno.\n",
    "\n",
    "**Otra forma de verlo es sin usar el parametro columna** - Esto va a ser más util para crear un nuevo dataframe."
   ]
  },
  {
   "cell_type": "code",
   "execution_count": null,
   "id": "yellow-whole",
   "metadata": {
    "id": "yellow-whole",
    "outputId": "5002d3db-55ea-4583-a7b6-841f1a3db4f3"
   },
   "outputs": [
    {
     "data": {
      "text/html": [
       "<div>\n",
       "<style scoped>\n",
       "    .dataframe tbody tr th:only-of-type {\n",
       "        vertical-align: middle;\n",
       "    }\n",
       "\n",
       "    .dataframe tbody tr th {\n",
       "        vertical-align: top;\n",
       "    }\n",
       "\n",
       "    .dataframe thead th {\n",
       "        text-align: right;\n",
       "    }\n",
       "</style>\n",
       "<table border=\"1\" class=\"dataframe\">\n",
       "  <thead>\n",
       "    <tr style=\"text-align: right;\">\n",
       "      <th></th>\n",
       "      <th></th>\n",
       "      <th>cant_tel</th>\n",
       "      <th>rut</th>\n",
       "    </tr>\n",
       "    <tr>\n",
       "      <th>periodo</th>\n",
       "      <th>captacion</th>\n",
       "      <th></th>\n",
       "      <th></th>\n",
       "    </tr>\n",
       "  </thead>\n",
       "  <tbody>\n",
       "    <tr>\n",
       "      <th rowspan=\"2\" valign=\"top\">201807.0</th>\n",
       "      <th>EXPRESS</th>\n",
       "      <td>2.752688</td>\n",
       "      <td>279</td>\n",
       "    </tr>\n",
       "    <tr>\n",
       "      <th>NORMAL</th>\n",
       "      <td>2.029557</td>\n",
       "      <td>203</td>\n",
       "    </tr>\n",
       "    <tr>\n",
       "      <th rowspan=\"2\" valign=\"top\">201808.0</th>\n",
       "      <th>EXPRESS</th>\n",
       "      <td>2.850365</td>\n",
       "      <td>274</td>\n",
       "    </tr>\n",
       "    <tr>\n",
       "      <th>NORMAL</th>\n",
       "      <td>2.237113</td>\n",
       "      <td>194</td>\n",
       "    </tr>\n",
       "    <tr>\n",
       "      <th>201809.0</th>\n",
       "      <th>EXPRESS</th>\n",
       "      <td>2.788546</td>\n",
       "      <td>227</td>\n",
       "    </tr>\n",
       "  </tbody>\n",
       "</table>\n",
       "</div>"
      ],
      "text/plain": [
       "                    cant_tel  rut\n",
       "periodo  captacion               \n",
       "201807.0 EXPRESS    2.752688  279\n",
       "         NORMAL     2.029557  203\n",
       "201808.0 EXPRESS    2.850365  274\n",
       "         NORMAL     2.237113  194\n",
       "201809.0 EXPRESS    2.788546  227"
      ]
     },
     "execution_count": 112,
     "metadata": {},
     "output_type": "execute_result"
    }
   ],
   "source": [
    "pd.pivot_table(df_merge, index=['periodo','captacion'], values=['rut', 'cant_tel'],\n",
    "              aggfunc={'rut':'count',\n",
    "                      'cant_tel':'mean'}).head()"
   ]
  },
  {
   "cell_type": "markdown",
   "id": "entitled-hierarchy",
   "metadata": {
    "id": "entitled-hierarchy"
   },
   "source": [
    "**La importancia de .reset_index()**\n",
    "\n",
    "Es muy importante destacar que si vamos a querer crear un dataset con la agrupacion realizada, es IMPRESCINDIBLE usar .reset_index() al final del codigo, ya que sino no quedara en el formato correcto.\n",
    "\n",
    "Miremos el ejemplo de arriba aplicando reset_index()"
   ]
  },
  {
   "cell_type": "code",
   "execution_count": null,
   "id": "specific-connecticut",
   "metadata": {
    "id": "specific-connecticut",
    "outputId": "c59faa39-be4e-4467-ac00-2bec96582fcc"
   },
   "outputs": [
    {
     "data": {
      "text/html": [
       "<div>\n",
       "<style scoped>\n",
       "    .dataframe tbody tr th:only-of-type {\n",
       "        vertical-align: middle;\n",
       "    }\n",
       "\n",
       "    .dataframe tbody tr th {\n",
       "        vertical-align: top;\n",
       "    }\n",
       "\n",
       "    .dataframe thead th {\n",
       "        text-align: right;\n",
       "    }\n",
       "</style>\n",
       "<table border=\"1\" class=\"dataframe\">\n",
       "  <thead>\n",
       "    <tr style=\"text-align: right;\">\n",
       "      <th></th>\n",
       "      <th>periodo</th>\n",
       "      <th>captacion</th>\n",
       "      <th>cant_tel</th>\n",
       "      <th>rut</th>\n",
       "    </tr>\n",
       "  </thead>\n",
       "  <tbody>\n",
       "    <tr>\n",
       "      <th>0</th>\n",
       "      <td>201807.0</td>\n",
       "      <td>EXPRESS</td>\n",
       "      <td>2.752688</td>\n",
       "      <td>279</td>\n",
       "    </tr>\n",
       "    <tr>\n",
       "      <th>1</th>\n",
       "      <td>201807.0</td>\n",
       "      <td>NORMAL</td>\n",
       "      <td>2.029557</td>\n",
       "      <td>203</td>\n",
       "    </tr>\n",
       "    <tr>\n",
       "      <th>2</th>\n",
       "      <td>201808.0</td>\n",
       "      <td>EXPRESS</td>\n",
       "      <td>2.850365</td>\n",
       "      <td>274</td>\n",
       "    </tr>\n",
       "    <tr>\n",
       "      <th>3</th>\n",
       "      <td>201808.0</td>\n",
       "      <td>NORMAL</td>\n",
       "      <td>2.237113</td>\n",
       "      <td>194</td>\n",
       "    </tr>\n",
       "    <tr>\n",
       "      <th>4</th>\n",
       "      <td>201809.0</td>\n",
       "      <td>EXPRESS</td>\n",
       "      <td>2.788546</td>\n",
       "      <td>227</td>\n",
       "    </tr>\n",
       "  </tbody>\n",
       "</table>\n",
       "</div>"
      ],
      "text/plain": [
       "    periodo captacion  cant_tel  rut\n",
       "0  201807.0   EXPRESS  2.752688  279\n",
       "1  201807.0    NORMAL  2.029557  203\n",
       "2  201808.0   EXPRESS  2.850365  274\n",
       "3  201808.0    NORMAL  2.237113  194\n",
       "4  201809.0   EXPRESS  2.788546  227"
      ]
     },
     "execution_count": 114,
     "metadata": {},
     "output_type": "execute_result"
    }
   ],
   "source": [
    "pd.pivot_table(df_merge, index=['periodo','captacion'], values=['rut', 'cant_tel'],\n",
    "              aggfunc={'rut':'count',\n",
    "                      'cant_tel':'mean'}).reset_index().head()"
   ]
  },
  {
   "cell_type": "markdown",
   "id": "stock-number",
   "metadata": {
    "id": "stock-number"
   },
   "source": [
    "Se puede ver claramente que este formato es más ameno y nos sirve como un dataset para seguir usando, joineando, etc."
   ]
  },
  {
   "cell_type": "markdown",
   "id": "abandoned-executive",
   "metadata": {
    "id": "abandoned-executive"
   },
   "source": [
    "**Ejercicio**\n",
    "\n",
    "Agrupar por captacion y obtener la media y el desvio de cant_tel. Para esto crear un nuevo dataset que se llame: info_captacion.\n",
    "\n",
    "Una vez obtenido esto, joinear la nueva columna al df_merge con un left_join (clave de fusion='captacion'). \n",
    "\n",
    "Pista: Para esto una vez obtenido el df info_captacion, debemos renombrar las columnas de manera correcta.\n",
    "\n",
    "``` info_captacion.columns = ['captacion', 'mean_cant_tel', 'std_cant_tel'] ```"
   ]
  },
  {
   "cell_type": "code",
   "execution_count": null,
   "id": "suspected-barcelona",
   "metadata": {
    "id": "suspected-barcelona",
    "outputId": "6afdfa92-0457-4cec-f79d-fb2684d2ba95"
   },
   "outputs": [
    {
     "data": {
      "text/html": [
       "<div>\n",
       "<style scoped>\n",
       "    .dataframe tbody tr th:only-of-type {\n",
       "        vertical-align: middle;\n",
       "    }\n",
       "\n",
       "    .dataframe tbody tr th {\n",
       "        vertical-align: top;\n",
       "    }\n",
       "\n",
       "    .dataframe thead th {\n",
       "        text-align: right;\n",
       "    }\n",
       "</style>\n",
       "<table border=\"1\" class=\"dataframe\">\n",
       "  <thead>\n",
       "    <tr style=\"text-align: right;\">\n",
       "      <th></th>\n",
       "      <th>captacion</th>\n",
       "      <th>mean_cant_tel</th>\n",
       "      <th>std_cant_tel</th>\n",
       "    </tr>\n",
       "  </thead>\n",
       "  <tbody>\n",
       "    <tr>\n",
       "      <th>0</th>\n",
       "      <td>EXPRESS</td>\n",
       "      <td>3.038442</td>\n",
       "      <td>2.181354</td>\n",
       "    </tr>\n",
       "    <tr>\n",
       "      <th>1</th>\n",
       "      <td>NORMAL</td>\n",
       "      <td>2.170590</td>\n",
       "      <td>1.951541</td>\n",
       "    </tr>\n",
       "  </tbody>\n",
       "</table>\n",
       "</div>"
      ],
      "text/plain": [
       "  captacion  mean_cant_tel  std_cant_tel\n",
       "0   EXPRESS       3.038442      2.181354\n",
       "1    NORMAL       2.170590      1.951541"
      ]
     },
     "execution_count": 118,
     "metadata": {},
     "output_type": "execute_result"
    }
   ],
   "source": [
    "info_captacion = pd.pivot_table(df_merge, index='captacion', values='cant_tel', aggfunc=['mean', 'std']).reset_index()\n",
    "info_captacion.columns = ['captacion', 'mean_cant_tel', 'std_cant_tel']\n",
    "info_captacion.head()"
   ]
  },
  {
   "cell_type": "code",
   "execution_count": null,
   "id": "intended-cinema",
   "metadata": {
    "id": "intended-cinema",
    "outputId": "064e320a-1336-42d3-c793-d2a457e3dd5c",
    "scrolled": true
   },
   "outputs": [
    {
     "data": {
      "text/html": [
       "<div>\n",
       "<style scoped>\n",
       "    .dataframe tbody tr th:only-of-type {\n",
       "        vertical-align: middle;\n",
       "    }\n",
       "\n",
       "    .dataframe tbody tr th {\n",
       "        vertical-align: top;\n",
       "    }\n",
       "\n",
       "    .dataframe thead th {\n",
       "        text-align: right;\n",
       "    }\n",
       "</style>\n",
       "<table border=\"1\" class=\"dataframe\">\n",
       "  <thead>\n",
       "    <tr style=\"text-align: right;\">\n",
       "      <th></th>\n",
       "      <th>rut</th>\n",
       "      <th>periodo</th>\n",
       "      <th>archive</th>\n",
       "      <th>ind_activo</th>\n",
       "      <th>estado_solicitud</th>\n",
       "      <th>captacion</th>\n",
       "      <th>cant_tel</th>\n",
       "      <th>predictor1_6</th>\n",
       "      <th>marca_60d_6m_final</th>\n",
       "      <th>captacion_nuevo</th>\n",
       "      <th>asd</th>\n",
       "      <th>predictor1_7</th>\n",
       "      <th>predictor1_8</th>\n",
       "      <th>predictor1_9</th>\n",
       "      <th>ignite_ise</th>\n",
       "      <th>mean_cant_tel</th>\n",
       "      <th>std_cant_tel</th>\n",
       "    </tr>\n",
       "  </thead>\n",
       "  <tbody>\n",
       "    <tr>\n",
       "      <th>0</th>\n",
       "      <td>PlDKtWGFBg</td>\n",
       "      <td>201909.0</td>\n",
       "      <td>20190930.0</td>\n",
       "      <td>0.0</td>\n",
       "      <td>Rechazado</td>\n",
       "      <td>NORMAL</td>\n",
       "      <td>1.0</td>\n",
       "      <td>596.0</td>\n",
       "      <td>1.0</td>\n",
       "      <td>NORMAL</td>\n",
       "      <td>0</td>\n",
       "      <td>551.0</td>\n",
       "      <td>506.0</td>\n",
       "      <td>506.0</td>\n",
       "      <td>D</td>\n",
       "      <td>2.170590</td>\n",
       "      <td>1.951541</td>\n",
       "    </tr>\n",
       "    <tr>\n",
       "      <th>1</th>\n",
       "      <td>MOAbr9v9ac</td>\n",
       "      <td>201810.0</td>\n",
       "      <td>20181031.0</td>\n",
       "      <td>1.0</td>\n",
       "      <td>Aprobado</td>\n",
       "      <td>EXPRESS</td>\n",
       "      <td>4.0</td>\n",
       "      <td>NaN</td>\n",
       "      <td>0.0</td>\n",
       "      <td>VOLDEMORTPRESS</td>\n",
       "      <td>1</td>\n",
       "      <td>100.0</td>\n",
       "      <td>NaN</td>\n",
       "      <td>100.0</td>\n",
       "      <td>C3</td>\n",
       "      <td>3.038442</td>\n",
       "      <td>2.181354</td>\n",
       "    </tr>\n",
       "    <tr>\n",
       "      <th>2</th>\n",
       "      <td>49L1vb3c2I</td>\n",
       "      <td>201909.0</td>\n",
       "      <td>20190930.0</td>\n",
       "      <td>1.0</td>\n",
       "      <td>Aprobado</td>\n",
       "      <td>NORMAL</td>\n",
       "      <td>3.0</td>\n",
       "      <td>633.0</td>\n",
       "      <td>0.0</td>\n",
       "      <td>NORMAL</td>\n",
       "      <td>0</td>\n",
       "      <td>544.0</td>\n",
       "      <td>675.0</td>\n",
       "      <td>675.0</td>\n",
       "      <td>D</td>\n",
       "      <td>2.170590</td>\n",
       "      <td>1.951541</td>\n",
       "    </tr>\n",
       "    <tr>\n",
       "      <th>3</th>\n",
       "      <td>7xM1iIFNCb</td>\n",
       "      <td>201812.0</td>\n",
       "      <td>20181231.0</td>\n",
       "      <td>1.0</td>\n",
       "      <td>Aprobado</td>\n",
       "      <td>EXPRESS</td>\n",
       "      <td>4.0</td>\n",
       "      <td>NaN</td>\n",
       "      <td>0.0</td>\n",
       "      <td>VOLDEMORTPRESS</td>\n",
       "      <td>1</td>\n",
       "      <td>100.0</td>\n",
       "      <td>NaN</td>\n",
       "      <td>100.0</td>\n",
       "      <td>E</td>\n",
       "      <td>3.038442</td>\n",
       "      <td>2.181354</td>\n",
       "    </tr>\n",
       "    <tr>\n",
       "      <th>4</th>\n",
       "      <td>e2ayZYSD59</td>\n",
       "      <td>201809.0</td>\n",
       "      <td>20180930.0</td>\n",
       "      <td>1.0</td>\n",
       "      <td>Aprobado</td>\n",
       "      <td>NORMAL</td>\n",
       "      <td>0.0</td>\n",
       "      <td>NaN</td>\n",
       "      <td>0.0</td>\n",
       "      <td>NORMAL</td>\n",
       "      <td>0</td>\n",
       "      <td>100.0</td>\n",
       "      <td>NaN</td>\n",
       "      <td>100.0</td>\n",
       "      <td>E</td>\n",
       "      <td>2.170590</td>\n",
       "      <td>1.951541</td>\n",
       "    </tr>\n",
       "  </tbody>\n",
       "</table>\n",
       "</div>"
      ],
      "text/plain": [
       "          rut   periodo     archive  ind_activo estado_solicitud captacion  \\\n",
       "0  PlDKtWGFBg  201909.0  20190930.0         0.0        Rechazado    NORMAL   \n",
       "1  MOAbr9v9ac  201810.0  20181031.0         1.0         Aprobado   EXPRESS   \n",
       "2  49L1vb3c2I  201909.0  20190930.0         1.0         Aprobado    NORMAL   \n",
       "3  7xM1iIFNCb  201812.0  20181231.0         1.0         Aprobado   EXPRESS   \n",
       "4  e2ayZYSD59  201809.0  20180930.0         1.0         Aprobado    NORMAL   \n",
       "\n",
       "   cant_tel  predictor1_6  marca_60d_6m_final captacion_nuevo  asd  \\\n",
       "0       1.0         596.0                 1.0          NORMAL    0   \n",
       "1       4.0           NaN                 0.0  VOLDEMORTPRESS    1   \n",
       "2       3.0         633.0                 0.0          NORMAL    0   \n",
       "3       4.0           NaN                 0.0  VOLDEMORTPRESS    1   \n",
       "4       0.0           NaN                 0.0          NORMAL    0   \n",
       "\n",
       "   predictor1_7  predictor1_8  predictor1_9 ignite_ise  mean_cant_tel  \\\n",
       "0         551.0         506.0         506.0          D       2.170590   \n",
       "1         100.0           NaN         100.0         C3       3.038442   \n",
       "2         544.0         675.0         675.0          D       2.170590   \n",
       "3         100.0           NaN         100.0          E       3.038442   \n",
       "4         100.0           NaN         100.0          E       2.170590   \n",
       "\n",
       "   std_cant_tel  \n",
       "0      1.951541  \n",
       "1      2.181354  \n",
       "2      1.951541  \n",
       "3      2.181354  \n",
       "4      1.951541  "
      ]
     },
     "execution_count": 119,
     "metadata": {},
     "output_type": "execute_result"
    }
   ],
   "source": [
    "df_merge = pd.merge(df_merge, info_captacion, on=['captacion'], how='left')\n",
    "\n",
    "df_merge.head()"
   ]
  },
  {
   "cell_type": "markdown",
   "id": "sixth-relative",
   "metadata": {
    "id": "sixth-relative"
   },
   "source": [
    "**=======================================================================================================================**"
   ]
  },
  {
   "cell_type": "markdown",
   "id": "isolated-execution",
   "metadata": {
    "id": "isolated-execution"
   },
   "source": [
    "### Group by\n",
    "\n",
    "Group by es la forma más simple para agrupar variables. Es un poco más simple que pivot_table y las funciones son muy similares. **Muy importante recordar .reset_index() ya que cumple la misma funcion aquí**\n",
    "\n",
    "**Código**\n",
    "\n",
    "``` dataset.groupby(['variables de agrupacion'])['variables a calcular metrica'].agg(['métricas: count/mean/sum') ```\n",
    "\n",
    "Pueden ser mas de una variable de agrupacion, mas de una variable a calcular metrica y más de una metrica.\n",
    "\n",
    "**Ejemplo - Agrupar por captacion y calcular la media y la cantidad de registros utilizando la variable marca_60d_6m_final**"
   ]
  },
  {
   "cell_type": "code",
   "execution_count": null,
   "id": "lesbian-variation",
   "metadata": {
    "id": "lesbian-variation",
    "outputId": "b6472c3b-7ff5-4d03-a6d3-2e3278149049",
    "scrolled": false
   },
   "outputs": [
    {
     "data": {
      "text/html": [
       "<div>\n",
       "<style scoped>\n",
       "    .dataframe tbody tr th:only-of-type {\n",
       "        vertical-align: middle;\n",
       "    }\n",
       "\n",
       "    .dataframe tbody tr th {\n",
       "        vertical-align: top;\n",
       "    }\n",
       "\n",
       "    .dataframe thead th {\n",
       "        text-align: right;\n",
       "    }\n",
       "</style>\n",
       "<table border=\"1\" class=\"dataframe\">\n",
       "  <thead>\n",
       "    <tr style=\"text-align: right;\">\n",
       "      <th></th>\n",
       "      <th>captacion</th>\n",
       "      <th>mean</th>\n",
       "      <th>count</th>\n",
       "    </tr>\n",
       "  </thead>\n",
       "  <tbody>\n",
       "    <tr>\n",
       "      <th>0</th>\n",
       "      <td>EXPRESS</td>\n",
       "      <td>0.134036</td>\n",
       "      <td>5879</td>\n",
       "    </tr>\n",
       "    <tr>\n",
       "      <th>1</th>\n",
       "      <td>NORMAL</td>\n",
       "      <td>0.302596</td>\n",
       "      <td>4121</td>\n",
       "    </tr>\n",
       "  </tbody>\n",
       "</table>\n",
       "</div>"
      ],
      "text/plain": [
       "  captacion      mean  count\n",
       "0   EXPRESS  0.134036   5879\n",
       "1    NORMAL  0.302596   4121"
      ]
     },
     "execution_count": 122,
     "metadata": {},
     "output_type": "execute_result"
    }
   ],
   "source": [
    "df_merge.groupby(['captacion'])['marca_60d_6m_final'].agg(['mean', 'count']).reset_index()"
   ]
  },
  {
   "cell_type": "markdown",
   "id": "introductory-error",
   "metadata": {
    "id": "introductory-error"
   },
   "source": [
    "**Ejercicio**\n",
    "\n",
    "Agrupar por captacion y periodo, la bad rate (mean de marca_60d_6m_final). Convertir en dataframe en el formato correcto."
   ]
  },
  {
   "cell_type": "code",
   "execution_count": null,
   "id": "lyric-julian",
   "metadata": {
    "id": "lyric-julian",
    "outputId": "05c60901-4c37-40b1-dcb2-ed03488aa84b"
   },
   "outputs": [
    {
     "data": {
      "text/html": [
       "<div>\n",
       "<style scoped>\n",
       "    .dataframe tbody tr th:only-of-type {\n",
       "        vertical-align: middle;\n",
       "    }\n",
       "\n",
       "    .dataframe tbody tr th {\n",
       "        vertical-align: top;\n",
       "    }\n",
       "\n",
       "    .dataframe thead th {\n",
       "        text-align: right;\n",
       "    }\n",
       "</style>\n",
       "<table border=\"1\" class=\"dataframe\">\n",
       "  <thead>\n",
       "    <tr style=\"text-align: right;\">\n",
       "      <th></th>\n",
       "      <th>captacion</th>\n",
       "      <th>periodo</th>\n",
       "      <th>marca_60d_6m_final</th>\n",
       "    </tr>\n",
       "  </thead>\n",
       "  <tbody>\n",
       "    <tr>\n",
       "      <th>0</th>\n",
       "      <td>EXPRESS</td>\n",
       "      <td>201807.0</td>\n",
       "      <td>0.111111</td>\n",
       "    </tr>\n",
       "    <tr>\n",
       "      <th>1</th>\n",
       "      <td>EXPRESS</td>\n",
       "      <td>201808.0</td>\n",
       "      <td>0.105839</td>\n",
       "    </tr>\n",
       "    <tr>\n",
       "      <th>2</th>\n",
       "      <td>EXPRESS</td>\n",
       "      <td>201809.0</td>\n",
       "      <td>0.171806</td>\n",
       "    </tr>\n",
       "    <tr>\n",
       "      <th>3</th>\n",
       "      <td>EXPRESS</td>\n",
       "      <td>201810.0</td>\n",
       "      <td>0.104869</td>\n",
       "    </tr>\n",
       "    <tr>\n",
       "      <th>4</th>\n",
       "      <td>EXPRESS</td>\n",
       "      <td>201811.0</td>\n",
       "      <td>0.157088</td>\n",
       "    </tr>\n",
       "  </tbody>\n",
       "</table>\n",
       "</div>"
      ],
      "text/plain": [
       "  captacion   periodo  marca_60d_6m_final\n",
       "0   EXPRESS  201807.0            0.111111\n",
       "1   EXPRESS  201808.0            0.105839\n",
       "2   EXPRESS  201809.0            0.171806\n",
       "3   EXPRESS  201810.0            0.104869\n",
       "4   EXPRESS  201811.0            0.157088"
      ]
     },
     "execution_count": 125,
     "metadata": {},
     "output_type": "execute_result"
    }
   ],
   "source": [
    "df_merge.groupby(['captacion', 'periodo'])['marca_60d_6m_final'].mean().reset_index().head()"
   ]
  },
  {
   "cell_type": "markdown",
   "id": "infinite-contributor",
   "metadata": {
    "id": "infinite-contributor"
   },
   "source": [
    "**=======================================================================================================================**"
   ]
  },
  {
   "cell_type": "markdown",
   "id": "mighty-spiritual",
   "metadata": {
    "id": "mighty-spiritual"
   },
   "source": [
    "## Creación de variables"
   ]
  },
  {
   "cell_type": "markdown",
   "id": "balanced-means",
   "metadata": {
    "id": "balanced-means"
   },
   "source": [
    "### Condicionales (Tipo Case When en SQL)"
   ]
  },
  {
   "cell_type": "markdown",
   "id": "large-stopping",
   "metadata": {
    "id": "large-stopping"
   },
   "source": [
    "#### 1) Para datos categoricos"
   ]
  },
  {
   "cell_type": "code",
   "execution_count": null,
   "id": "chubby-amber",
   "metadata": {
    "id": "chubby-amber",
    "outputId": "fac5c12d-eef7-4c7d-f318-172c5eba6b9e"
   },
   "outputs": [
    {
     "data": {
      "text/plain": [
       "EXPRESS    5879\n",
       "NORMAL     4121\n",
       "Name: captacion, dtype: int64"
      ]
     },
     "execution_count": 11,
     "metadata": {},
     "output_type": "execute_result"
    }
   ],
   "source": [
    "df.captacion.value_counts()"
   ]
  },
  {
   "cell_type": "markdown",
   "id": "reduced-pickup",
   "metadata": {
    "id": "reduced-pickup"
   },
   "source": [
    "- Usando np.where"
   ]
  },
  {
   "cell_type": "code",
   "execution_count": null,
   "id": "raising-still",
   "metadata": {
    "id": "raising-still"
   },
   "outputs": [],
   "source": [
    "df['captacion_corregido'] = np.where((df['captacion'] == 'EXPRESS'), 'Rápido', \n",
    "                            np.where((df['captacion'] == 'NORMAL'),  'Básico', 'revisar'))"
   ]
  },
  {
   "cell_type": "code",
   "execution_count": null,
   "id": "regulation-substitute",
   "metadata": {
    "id": "regulation-substitute",
    "outputId": "4558083c-1521-4cca-f240-3facde375982"
   },
   "outputs": [
    {
     "data": {
      "text/plain": [
       "Rápido    5879\n",
       "Básico    4121\n",
       "Name: captacion_corregido, dtype: int64"
      ]
     },
     "execution_count": 41,
     "metadata": {},
     "output_type": "execute_result"
    }
   ],
   "source": [
    "df.captacion_corregido.value_counts()"
   ]
  },
  {
   "cell_type": "markdown",
   "id": "dress-procurement",
   "metadata": {
    "id": "dress-procurement"
   },
   "source": [
    "#### varios condicionales anidados"
   ]
  },
  {
   "cell_type": "code",
   "execution_count": null,
   "id": "alike-federal",
   "metadata": {
    "id": "alike-federal"
   },
   "outputs": [],
   "source": [
    "df['nueva_categoria'] = np.where((df['estado_solicitud'] == 'Aprobado') & (df['captacion_corregido'] == 'Rápido'), 'Cat_A', \n",
    "                        np.where((df['estado_solicitud'] == 'Aprobado') & (df['captacion_corregido'] == 'Básico'), 'Cat_B',\n",
    "                        np.where((df['estado_solicitud'] == 'Rechazado') & (df['captacion_corregido'] == 'Rápido'), 'Cat_C',\n",
    "                        np.where((df['estado_solicitud'] == 'Rechazado') & (df['captacion_corregido'] == 'Básico'),  'Cat_D', 'Revisar'))))"
   ]
  },
  {
   "cell_type": "code",
   "execution_count": null,
   "id": "broad-skirt",
   "metadata": {
    "id": "broad-skirt",
    "outputId": "362ebf03-02e1-4504-901a-08739fada2a6"
   },
   "outputs": [
    {
     "data": {
      "text/plain": [
       "Cat_A    5820\n",
       "Cat_D    2180\n",
       "Cat_B    1941\n",
       "Cat_C      59\n",
       "Name: nueva_categoria, dtype: int64"
      ]
     },
     "execution_count": 54,
     "metadata": {},
     "output_type": "execute_result"
    }
   ],
   "source": [
    "df.nueva_categoria.value_counts(dropna=False)"
   ]
  },
  {
   "cell_type": "code",
   "execution_count": null,
   "id": "changed-catering",
   "metadata": {
    "id": "changed-catering",
    "outputId": "f864e2fc-5c85-446a-f478-48aff4ae257d"
   },
   "outputs": [
    {
     "data": {
      "text/html": [
       "<div>\n",
       "<style scoped>\n",
       "    .dataframe tbody tr th:only-of-type {\n",
       "        vertical-align: middle;\n",
       "    }\n",
       "\n",
       "    .dataframe tbody tr th {\n",
       "        vertical-align: top;\n",
       "    }\n",
       "\n",
       "    .dataframe thead th {\n",
       "        text-align: right;\n",
       "    }\n",
       "</style>\n",
       "<table border=\"1\" class=\"dataframe\">\n",
       "  <thead>\n",
       "    <tr style=\"text-align: right;\">\n",
       "      <th></th>\n",
       "      <th>rut</th>\n",
       "      <th>periodo</th>\n",
       "      <th>archive</th>\n",
       "      <th>ind_activo</th>\n",
       "      <th>estado_solicitud</th>\n",
       "      <th>captacion</th>\n",
       "      <th>cant_tel</th>\n",
       "      <th>predictor1_6</th>\n",
       "      <th>marca_60d_6m_final</th>\n",
       "      <th>captacion_corregido</th>\n",
       "      <th>nueva_categoria</th>\n",
       "    </tr>\n",
       "  </thead>\n",
       "  <tbody>\n",
       "    <tr>\n",
       "      <th>0</th>\n",
       "      <td>PlDKtWGFBg</td>\n",
       "      <td>201909.0</td>\n",
       "      <td>20190930.0</td>\n",
       "      <td>0.0</td>\n",
       "      <td>Rechazado</td>\n",
       "      <td>NORMAL</td>\n",
       "      <td>1.0</td>\n",
       "      <td>596.0</td>\n",
       "      <td>1.0</td>\n",
       "      <td>Básico</td>\n",
       "      <td>Cat_D</td>\n",
       "    </tr>\n",
       "    <tr>\n",
       "      <th>1</th>\n",
       "      <td>MOAbr9v9ac</td>\n",
       "      <td>201810.0</td>\n",
       "      <td>20181031.0</td>\n",
       "      <td>1.0</td>\n",
       "      <td>Aprobado</td>\n",
       "      <td>EXPRESS</td>\n",
       "      <td>4.0</td>\n",
       "      <td>NaN</td>\n",
       "      <td>0.0</td>\n",
       "      <td>Rápido</td>\n",
       "      <td>Cat_A</td>\n",
       "    </tr>\n",
       "    <tr>\n",
       "      <th>2</th>\n",
       "      <td>49L1vb3c2I</td>\n",
       "      <td>201909.0</td>\n",
       "      <td>20190930.0</td>\n",
       "      <td>1.0</td>\n",
       "      <td>Aprobado</td>\n",
       "      <td>NORMAL</td>\n",
       "      <td>3.0</td>\n",
       "      <td>633.0</td>\n",
       "      <td>0.0</td>\n",
       "      <td>Básico</td>\n",
       "      <td>Cat_B</td>\n",
       "    </tr>\n",
       "    <tr>\n",
       "      <th>3</th>\n",
       "      <td>7xM1iIFNCb</td>\n",
       "      <td>201812.0</td>\n",
       "      <td>20181231.0</td>\n",
       "      <td>1.0</td>\n",
       "      <td>Aprobado</td>\n",
       "      <td>EXPRESS</td>\n",
       "      <td>4.0</td>\n",
       "      <td>NaN</td>\n",
       "      <td>0.0</td>\n",
       "      <td>Rápido</td>\n",
       "      <td>Cat_A</td>\n",
       "    </tr>\n",
       "    <tr>\n",
       "      <th>4</th>\n",
       "      <td>e2ayZYSD59</td>\n",
       "      <td>201809.0</td>\n",
       "      <td>20180930.0</td>\n",
       "      <td>1.0</td>\n",
       "      <td>Aprobado</td>\n",
       "      <td>NORMAL</td>\n",
       "      <td>0.0</td>\n",
       "      <td>NaN</td>\n",
       "      <td>0.0</td>\n",
       "      <td>Básico</td>\n",
       "      <td>Cat_B</td>\n",
       "    </tr>\n",
       "  </tbody>\n",
       "</table>\n",
       "</div>"
      ],
      "text/plain": [
       "          rut   periodo     archive  ind_activo estado_solicitud captacion  \\\n",
       "0  PlDKtWGFBg  201909.0  20190930.0         0.0        Rechazado    NORMAL   \n",
       "1  MOAbr9v9ac  201810.0  20181031.0         1.0         Aprobado   EXPRESS   \n",
       "2  49L1vb3c2I  201909.0  20190930.0         1.0         Aprobado    NORMAL   \n",
       "3  7xM1iIFNCb  201812.0  20181231.0         1.0         Aprobado   EXPRESS   \n",
       "4  e2ayZYSD59  201809.0  20180930.0         1.0         Aprobado    NORMAL   \n",
       "\n",
       "   cant_tel  predictor1_6  marca_60d_6m_final captacion_corregido  \\\n",
       "0       1.0         596.0                 1.0              Básico   \n",
       "1       4.0           NaN                 0.0              Rápido   \n",
       "2       3.0         633.0                 0.0              Básico   \n",
       "3       4.0           NaN                 0.0              Rápido   \n",
       "4       0.0           NaN                 0.0              Básico   \n",
       "\n",
       "  nueva_categoria  \n",
       "0           Cat_D  \n",
       "1           Cat_A  \n",
       "2           Cat_B  \n",
       "3           Cat_A  \n",
       "4           Cat_B  "
      ]
     },
     "execution_count": 55,
     "metadata": {},
     "output_type": "execute_result"
    }
   ],
   "source": [
    "df.head()"
   ]
  },
  {
   "cell_type": "markdown",
   "id": "transsexual-porcelain",
   "metadata": {
    "id": "transsexual-porcelain"
   },
   "source": [
    "- Usando IF-ELSE"
   ]
  },
  {
   "cell_type": "code",
   "execution_count": null,
   "id": "capital-jacksonville",
   "metadata": {
    "id": "capital-jacksonville"
   },
   "outputs": [],
   "source": [
    "df['captacion_corregido']=df.apply(\n",
    "    lambda x: 'Rápido' if (x['captacion'] == 'EXPRESS') else\n",
    "               'Básico' if (x['captacion'] == 'NORMAL') else\n",
    "              'Revisar', axis=1)"
   ]
  },
  {
   "cell_type": "code",
   "execution_count": null,
   "id": "toxic-anatomy",
   "metadata": {
    "id": "toxic-anatomy",
    "outputId": "1aad5628-624c-40f4-f0b0-d7b2619129dc"
   },
   "outputs": [
    {
     "data": {
      "text/plain": [
       "Rápido    5879\n",
       "Básico    4121\n",
       "Name: captacion_corregido, dtype: int64"
      ]
     },
     "execution_count": 57,
     "metadata": {},
     "output_type": "execute_result"
    }
   ],
   "source": [
    "df.captacion_corregido.value_counts()"
   ]
  },
  {
   "cell_type": "code",
   "execution_count": null,
   "id": "worth-laser",
   "metadata": {
    "id": "worth-laser"
   },
   "outputs": [],
   "source": [
    "def clasificar(variable):\n",
    "    if variable == 'EXPRESS':\n",
    "        return 'Rápido'\n",
    "    elif variable == 'NORMAL':\n",
    "        return 'Básico'\n",
    "\n",
    "df['captacion_corregido_2'] = df.captacion.apply(clasificar)"
   ]
  },
  {
   "cell_type": "code",
   "execution_count": null,
   "id": "impossible-young",
   "metadata": {
    "id": "impossible-young",
    "outputId": "43a0486f-2039-4f6a-bb0e-41d9c9e80c86"
   },
   "outputs": [
    {
     "data": {
      "text/plain": [
       "Rápido    5879\n",
       "Básico    4121\n",
       "Name: captacion_corregido_2, dtype: int64"
      ]
     },
     "execution_count": 15,
     "metadata": {},
     "output_type": "execute_result"
    }
   ],
   "source": [
    "df.captacion_corregido_2.value_counts()"
   ]
  },
  {
   "cell_type": "markdown",
   "id": "plain-jewelry",
   "metadata": {
    "id": "plain-jewelry"
   },
   "source": [
    "- Usando Map"
   ]
  },
  {
   "cell_type": "code",
   "execution_count": null,
   "id": "compliant-space",
   "metadata": {
    "id": "compliant-space"
   },
   "outputs": [],
   "source": [
    "dict ={'EXPRESS': 'Rápido',\n",
    "      'NORMAL': 'Básico' \n",
    "      }\n",
    "df['captacion_corregido_3'] = df.captacion.map(dict)"
   ]
  },
  {
   "cell_type": "code",
   "execution_count": null,
   "id": "alpha-seattle",
   "metadata": {
    "id": "alpha-seattle",
    "outputId": "942a6c9e-265d-47f8-ae43-e325f1a6b830"
   },
   "outputs": [
    {
     "data": {
      "text/plain": [
       "Rápido    5879\n",
       "Básico    4121\n",
       "Name: captacion_corregido_3, dtype: int64"
      ]
     },
     "execution_count": 17,
     "metadata": {},
     "output_type": "execute_result"
    }
   ],
   "source": [
    "df.captacion_corregido_3.value_counts()"
   ]
  },
  {
   "cell_type": "markdown",
   "id": "armed-longitude",
   "metadata": {
    "id": "armed-longitude"
   },
   "source": [
    "- Usando Replace"
   ]
  },
  {
   "cell_type": "code",
   "execution_count": null,
   "id": "terminal-caribbean",
   "metadata": {
    "id": "terminal-caribbean"
   },
   "outputs": [],
   "source": [
    "df.replace(\n",
    "    {'captacion': {'EXPRESS': 'Rápido',\n",
    "               'NORMAL': 'Básico' \n",
    "            }},\n",
    "    inplace = True\n",
    ")"
   ]
  },
  {
   "cell_type": "code",
   "execution_count": null,
   "id": "dated-lesbian",
   "metadata": {
    "id": "dated-lesbian",
    "outputId": "b4028496-7c42-40fd-bfd2-617f2749de12"
   },
   "outputs": [
    {
     "data": {
      "text/html": [
       "<div>\n",
       "<style scoped>\n",
       "    .dataframe tbody tr th:only-of-type {\n",
       "        vertical-align: middle;\n",
       "    }\n",
       "\n",
       "    .dataframe tbody tr th {\n",
       "        vertical-align: top;\n",
       "    }\n",
       "\n",
       "    .dataframe thead th {\n",
       "        text-align: right;\n",
       "    }\n",
       "</style>\n",
       "<table border=\"1\" class=\"dataframe\">\n",
       "  <thead>\n",
       "    <tr style=\"text-align: right;\">\n",
       "      <th></th>\n",
       "      <th>rut</th>\n",
       "      <th>periodo</th>\n",
       "      <th>archive</th>\n",
       "      <th>ind_activo</th>\n",
       "      <th>estado_solicitud</th>\n",
       "      <th>captacion</th>\n",
       "      <th>cant_tel</th>\n",
       "      <th>predictor1_6</th>\n",
       "      <th>marca_60d_6m_final</th>\n",
       "      <th>estado_solicitud_new</th>\n",
       "      <th>valor</th>\n",
       "      <th>captacion_corregido</th>\n",
       "      <th>captacion_corregido_2</th>\n",
       "      <th>captacion_corregido_3</th>\n",
       "    </tr>\n",
       "  </thead>\n",
       "  <tbody>\n",
       "    <tr>\n",
       "      <th>0</th>\n",
       "      <td>PlDKtWGFBg</td>\n",
       "      <td>201909.0</td>\n",
       "      <td>20190930.0</td>\n",
       "      <td>0.0</td>\n",
       "      <td>Rechazado</td>\n",
       "      <td>Básico</td>\n",
       "      <td>1.0</td>\n",
       "      <td>596.0</td>\n",
       "      <td>1.0</td>\n",
       "      <td>Rechazado</td>\n",
       "      <td>Bajo</td>\n",
       "      <td>Básico</td>\n",
       "      <td>Básico</td>\n",
       "      <td>Básico</td>\n",
       "    </tr>\n",
       "    <tr>\n",
       "      <th>1</th>\n",
       "      <td>MOAbr9v9ac</td>\n",
       "      <td>201810.0</td>\n",
       "      <td>20181031.0</td>\n",
       "      <td>1.0</td>\n",
       "      <td>Aprobado</td>\n",
       "      <td>Rápido</td>\n",
       "      <td>4.0</td>\n",
       "      <td>NaN</td>\n",
       "      <td>0.0</td>\n",
       "      <td>Aprobado</td>\n",
       "      <td>Alto</td>\n",
       "      <td>Rápido</td>\n",
       "      <td>Rápido</td>\n",
       "      <td>Rápido</td>\n",
       "    </tr>\n",
       "    <tr>\n",
       "      <th>2</th>\n",
       "      <td>49L1vb3c2I</td>\n",
       "      <td>201909.0</td>\n",
       "      <td>20190930.0</td>\n",
       "      <td>1.0</td>\n",
       "      <td>Aprobado</td>\n",
       "      <td>Básico</td>\n",
       "      <td>3.0</td>\n",
       "      <td>633.0</td>\n",
       "      <td>0.0</td>\n",
       "      <td>Aprobado</td>\n",
       "      <td>Medio</td>\n",
       "      <td>Básico</td>\n",
       "      <td>Básico</td>\n",
       "      <td>Básico</td>\n",
       "    </tr>\n",
       "    <tr>\n",
       "      <th>3</th>\n",
       "      <td>7xM1iIFNCb</td>\n",
       "      <td>201812.0</td>\n",
       "      <td>20181231.0</td>\n",
       "      <td>1.0</td>\n",
       "      <td>Aprobado</td>\n",
       "      <td>Rápido</td>\n",
       "      <td>4.0</td>\n",
       "      <td>NaN</td>\n",
       "      <td>0.0</td>\n",
       "      <td>Aprobado</td>\n",
       "      <td>Alto</td>\n",
       "      <td>Rápido</td>\n",
       "      <td>Rápido</td>\n",
       "      <td>Rápido</td>\n",
       "    </tr>\n",
       "    <tr>\n",
       "      <th>4</th>\n",
       "      <td>e2ayZYSD59</td>\n",
       "      <td>201809.0</td>\n",
       "      <td>20180930.0</td>\n",
       "      <td>1.0</td>\n",
       "      <td>Aprobado</td>\n",
       "      <td>Básico</td>\n",
       "      <td>0.0</td>\n",
       "      <td>NaN</td>\n",
       "      <td>0.0</td>\n",
       "      <td>Rechazado</td>\n",
       "      <td>Bajo</td>\n",
       "      <td>Básico</td>\n",
       "      <td>Básico</td>\n",
       "      <td>Básico</td>\n",
       "    </tr>\n",
       "  </tbody>\n",
       "</table>\n",
       "</div>"
      ],
      "text/plain": [
       "          rut   periodo     archive  ind_activo estado_solicitud captacion  \\\n",
       "0  PlDKtWGFBg  201909.0  20190930.0         0.0        Rechazado    Básico   \n",
       "1  MOAbr9v9ac  201810.0  20181031.0         1.0         Aprobado    Rápido   \n",
       "2  49L1vb3c2I  201909.0  20190930.0         1.0         Aprobado    Básico   \n",
       "3  7xM1iIFNCb  201812.0  20181231.0         1.0         Aprobado    Rápido   \n",
       "4  e2ayZYSD59  201809.0  20180930.0         1.0         Aprobado    Básico   \n",
       "\n",
       "   cant_tel  predictor1_6  marca_60d_6m_final estado_solicitud_new  valor  \\\n",
       "0       1.0         596.0                 1.0            Rechazado   Bajo   \n",
       "1       4.0           NaN                 0.0             Aprobado   Alto   \n",
       "2       3.0         633.0                 0.0             Aprobado  Medio   \n",
       "3       4.0           NaN                 0.0             Aprobado   Alto   \n",
       "4       0.0           NaN                 0.0            Rechazado   Bajo   \n",
       "\n",
       "  captacion_corregido captacion_corregido_2 captacion_corregido_3  \n",
       "0              Básico                Básico                Básico  \n",
       "1              Rápido                Rápido                Rápido  \n",
       "2              Básico                Básico                Básico  \n",
       "3              Rápido                Rápido                Rápido  \n",
       "4              Básico                Básico                Básico  "
      ]
     },
     "execution_count": 19,
     "metadata": {},
     "output_type": "execute_result"
    }
   ],
   "source": [
    "df.head()"
   ]
  },
  {
   "cell_type": "markdown",
   "id": "progressive-botswana",
   "metadata": {
    "id": "progressive-botswana"
   },
   "source": [
    "#### 2) Para datos numericos"
   ]
  },
  {
   "cell_type": "code",
   "execution_count": null,
   "id": "entitled-height",
   "metadata": {
    "id": "entitled-height",
    "outputId": "e61685ed-5606-42af-ec66-2b59dff82539"
   },
   "outputs": [
    {
     "data": {
      "text/plain": [
       "<matplotlib.axes._subplots.AxesSubplot at 0x7f5271863450>"
      ]
     },
     "execution_count": 27,
     "metadata": {},
     "output_type": "execute_result"
    },
    {
     "data": {
      "image/png": "[encoded data removed]",
      "text/plain": [
       "<Figure size 432x288 with 1 Axes>"
      ]
     },
     "metadata": {
      "needs_background": "light"
     },
     "output_type": "display_data"
    }
   ],
   "source": [
    "df.predictor1_6.plot.hist()"
   ]
  },
  {
   "cell_type": "markdown",
   "id": "accompanied-convergence",
   "metadata": {
    "id": "accompanied-convergence"
   },
   "source": [
    "- Usando np.where"
   ]
  },
  {
   "cell_type": "code",
   "execution_count": null,
   "id": "absolute-mountain",
   "metadata": {
    "id": "absolute-mountain"
   },
   "outputs": [],
   "source": [
    "df['flag_predictor'] = np.where(df['predictor1_6'] > 800, 'Alto', \n",
    "                       np.where(df['predictor1_6'] > 600, 'Medio', \n",
    "                       np.where(df['predictor1_6'] <= 600, 'Bajo', 'Revisar')))"
   ]
  },
  {
   "cell_type": "code",
   "execution_count": null,
   "id": "vocal-mouse",
   "metadata": {
    "id": "vocal-mouse",
    "outputId": "521f245d-f845-4faf-852e-09219df5f0ed"
   },
   "outputs": [
    {
     "data": {
      "text/plain": [
       "Medio      3353\n",
       "Revisar    3096\n",
       "Bajo       3022\n",
       "Alto        529\n",
       "Name: flag_predictor, dtype: int64"
      ]
     },
     "execution_count": 61,
     "metadata": {},
     "output_type": "execute_result"
    }
   ],
   "source": [
    "df.flag_predictor.value_counts()"
   ]
  },
  {
   "cell_type": "markdown",
   "id": "macro-drive",
   "metadata": {
    "id": "macro-drive"
   },
   "source": [
    "- Usando If-else"
   ]
  },
  {
   "cell_type": "code",
   "execution_count": null,
   "id": "periodic-default",
   "metadata": {
    "id": "periodic-default"
   },
   "outputs": [],
   "source": [
    "df['flag_predictor']=df.apply(\n",
    "    lambda x: 'Alto' if (x['predictor1_6'] > 800) else\n",
    "               'Medio' if (x['predictor1_6'] > 600) else\n",
    "               'Bajo' if (x['predictor1_6'] <= 600) else\n",
    "               'Nulos' if (pd.isnull(x['predictor1_6']) == True) else\n",
    "              'Revisar', axis=1)"
   ]
  },
  {
   "cell_type": "code",
   "execution_count": null,
   "id": "african-possibility",
   "metadata": {
    "id": "african-possibility",
    "outputId": "4cb4ecea-c233-4166-9a47-ba607db951ca"
   },
   "outputs": [
    {
     "data": {
      "text/plain": [
       "Medio    3353\n",
       "Nulos    3096\n",
       "Bajo     3022\n",
       "Alto      529\n",
       "Name: flag_predictor, dtype: int64"
      ]
     },
     "execution_count": 63,
     "metadata": {},
     "output_type": "execute_result"
    }
   ],
   "source": [
    "df.flag_predictor.value_counts()"
   ]
  },
  {
   "cell_type": "code",
   "execution_count": null,
   "id": "manual-honey",
   "metadata": {
    "id": "manual-honey",
    "outputId": "aab3f508-23c6-4b95-84b6-2e1394e3a5af"
   },
   "outputs": [
    {
     "data": {
      "text/plain": [
       "<matplotlib.axes._subplots.AxesSubplot at 0x7f525b5d9950>"
      ]
     },
     "execution_count": 64,
     "metadata": {},
     "output_type": "execute_result"
    },
    {
     "data": {
      "image/png": "[encoded data removed]",
      "text/plain": [
       "<Figure size 432x288 with 1 Axes>"
      ]
     },
     "metadata": {
      "needs_background": "light"
     },
     "output_type": "display_data"
    }
   ],
   "source": [
    "df.flag_predictor.value_counts().plot.bar()"
   ]
  },
  {
   "cell_type": "code",
   "execution_count": null,
   "id": "caring-technique",
   "metadata": {
    "id": "caring-technique",
    "outputId": "6f12b24c-3167-4b39-c2c3-146f54bfb5bd"
   },
   "outputs": [
    {
     "data": {
      "text/plain": [
       "<matplotlib.axes._subplots.AxesSubplot at 0x7f530e2fbf10>"
      ]
     },
     "execution_count": 65,
     "metadata": {},
     "output_type": "execute_result"
    },
    {
     "data": {
      "image/png": "[encoded data removed]",
      "text/plain": [
       "<Figure size 432x288 with 1 Axes>"
      ]
     },
     "metadata": {
      "needs_background": "light"
     },
     "output_type": "display_data"
    }
   ],
   "source": [
    "df.flag_predictor.value_counts(normalize=True).plot.bar()"
   ]
  },
  {
   "cell_type": "markdown",
   "id": "apart-processing",
   "metadata": {
    "id": "apart-processing"
   },
   "source": [
    "- Usando mask"
   ]
  },
  {
   "cell_type": "code",
   "execution_count": null,
   "id": "mineral-jimmy",
   "metadata": {
    "id": "mineral-jimmy"
   },
   "outputs": [],
   "source": [
    "df['flag_predictor_2'] = (df.predictor1_6.mask(df.predictor1_6 > 800, 'Alto').\n",
    "                                     mask(df.predictor1_6 <= 800, 'Medio').\n",
    "                                     mask(df.predictor1_6 <= 600, 'Bajo').\n",
    "                                     mask(df.predictor1_6.isnull() == True, 'Nulos'))"
   ]
  },
  {
   "cell_type": "code",
   "execution_count": null,
   "id": "cheap-translator",
   "metadata": {
    "id": "cheap-translator",
    "outputId": "b96a7cf3-07b0-4b86-8a7c-08e96a11da8e"
   },
   "outputs": [
    {
     "data": {
      "text/plain": [
       "<matplotlib.axes._subplots.AxesSubplot at 0x7f525b6bae10>"
      ]
     },
     "execution_count": 67,
     "metadata": {},
     "output_type": "execute_result"
    },
    {
     "data": {
      "image/png": "[encoded data removed]",
      "text/plain": [
       "<Figure size 432x288 with 1 Axes>"
      ]
     },
     "metadata": {
      "needs_background": "light"
     },
     "output_type": "display_data"
    }
   ],
   "source": [
    "df.flag_predictor_2.value_counts().plot.bar()"
   ]
  },
  {
   "cell_type": "markdown",
   "id": "brief-arthritis",
   "metadata": {
    "id": "brief-arthritis"
   },
   "source": [
    "- Usando cut"
   ]
  },
  {
   "cell_type": "code",
   "execution_count": null,
   "id": "regular-start",
   "metadata": {
    "id": "regular-start"
   },
   "outputs": [],
   "source": [
    "bins = [-1,600,800,1000]\n",
    "labels =['Bajo','Medio','Alto']\n",
    "\n",
    "df['flag_predictor_3'] = pd.cut(df['predictor1_6'], bins = bins, labels = labels).astype('str')"
   ]
  },
  {
   "cell_type": "code",
   "execution_count": null,
   "id": "civilian-helena",
   "metadata": {
    "id": "civilian-helena"
   },
   "outputs": [],
   "source": [
    "df.replace(\n",
    "    {'flag_predictor_3': {'nan': 'Nulos'}},\n",
    "    inplace = True\n",
    ")"
   ]
  },
  {
   "cell_type": "code",
   "execution_count": null,
   "id": "instrumental-manchester",
   "metadata": {
    "id": "instrumental-manchester",
    "outputId": "5027173b-a53e-4666-d1d6-c85518861ed9"
   },
   "outputs": [
    {
     "data": {
      "text/plain": [
       "<matplotlib.axes._subplots.AxesSubplot at 0x7f78bc5fab90>"
      ]
     },
     "execution_count": 105,
     "metadata": {},
     "output_type": "execute_result"
    },
    {
     "data": {
      "image/png": "[encoded data removed]",
      "text/plain": [
       "<Figure size 432x288 with 1 Axes>"
      ]
     },
     "metadata": {
      "needs_background": "light"
     },
     "output_type": "display_data"
    }
   ],
   "source": [
    "df.flag_predictor_3.value_counts().plot.bar()"
   ]
  },
  {
   "cell_type": "markdown",
   "id": "entertaining-pocket",
   "metadata": {
    "id": "entertaining-pocket"
   },
   "source": [
    "### Row_number (Tipo SQL)"
   ]
  },
  {
   "cell_type": "code",
   "execution_count": null,
   "id": "endless-inflation",
   "metadata": {
    "id": "endless-inflation",
    "outputId": "30233299-e907-4a79-a7e5-4a366ea27dcc"
   },
   "outputs": [
    {
     "data": {
      "text/html": [
       "<div>\n",
       "<style scoped>\n",
       "    .dataframe tbody tr th:only-of-type {\n",
       "        vertical-align: middle;\n",
       "    }\n",
       "\n",
       "    .dataframe tbody tr th {\n",
       "        vertical-align: top;\n",
       "    }\n",
       "\n",
       "    .dataframe thead th {\n",
       "        text-align: right;\n",
       "    }\n",
       "</style>\n",
       "<table border=\"1\" class=\"dataframe\">\n",
       "  <thead>\n",
       "    <tr style=\"text-align: right;\">\n",
       "      <th></th>\n",
       "      <th>rut</th>\n",
       "      <th>periodo</th>\n",
       "    </tr>\n",
       "  </thead>\n",
       "  <tbody>\n",
       "    <tr>\n",
       "      <th>9493</th>\n",
       "      <td>wr8G5C5iw6</td>\n",
       "      <td>2</td>\n",
       "    </tr>\n",
       "    <tr>\n",
       "      <th>7788</th>\n",
       "      <td>mJoprO831c</td>\n",
       "      <td>2</td>\n",
       "    </tr>\n",
       "    <tr>\n",
       "      <th>7750</th>\n",
       "      <td>m4U0C5YJ50</td>\n",
       "      <td>2</td>\n",
       "    </tr>\n",
       "    <tr>\n",
       "      <th>4366</th>\n",
       "      <td>R7DCPF4Rw9</td>\n",
       "      <td>2</td>\n",
       "    </tr>\n",
       "    <tr>\n",
       "      <th>1246</th>\n",
       "      <td>7QBLAdPCOG</td>\n",
       "      <td>2</td>\n",
       "    </tr>\n",
       "    <tr>\n",
       "      <th>6716</th>\n",
       "      <td>fdqAHGeoDr</td>\n",
       "      <td>2</td>\n",
       "    </tr>\n",
       "    <tr>\n",
       "      <th>3441</th>\n",
       "      <td>LT1Vl2czqX</td>\n",
       "      <td>2</td>\n",
       "    </tr>\n",
       "    <tr>\n",
       "      <th>3729</th>\n",
       "      <td>NGVgy67x62</td>\n",
       "      <td>2</td>\n",
       "    </tr>\n",
       "    <tr>\n",
       "      <th>5810</th>\n",
       "      <td>aHJJwc0Lr3</td>\n",
       "      <td>2</td>\n",
       "    </tr>\n",
       "    <tr>\n",
       "      <th>0</th>\n",
       "      <td>006YjYYfuu</td>\n",
       "      <td>1</td>\n",
       "    </tr>\n",
       "  </tbody>\n",
       "</table>\n",
       "</div>"
      ],
      "text/plain": [
       "             rut  periodo\n",
       "9493  wr8G5C5iw6        2\n",
       "7788  mJoprO831c        2\n",
       "7750  m4U0C5YJ50        2\n",
       "4366  R7DCPF4Rw9        2\n",
       "1246  7QBLAdPCOG        2\n",
       "6716  fdqAHGeoDr        2\n",
       "3441  LT1Vl2czqX        2\n",
       "3729  NGVgy67x62        2\n",
       "5810  aHJJwc0Lr3        2\n",
       "0     006YjYYfuu        1"
      ]
     },
     "execution_count": 77,
     "metadata": {},
     "output_type": "execute_result"
    }
   ],
   "source": [
    "df.groupby('rut')['periodo'].count().reset_index().sort_values(by='periodo', ascending=0).head(10)"
   ]
  },
  {
   "cell_type": "code",
   "execution_count": null,
   "id": "velvet-sugar",
   "metadata": {
    "id": "velvet-sugar",
    "outputId": "dd6d2cf0-65b3-4211-e8fb-bcf603c7f5b0"
   },
   "outputs": [
    {
     "data": {
      "text/plain": [
       "(10000, 13)"
      ]
     },
     "execution_count": 78,
     "metadata": {},
     "output_type": "execute_result"
    }
   ],
   "source": [
    "df.shape"
   ]
  },
  {
   "cell_type": "code",
   "execution_count": null,
   "id": "agreed-defendant",
   "metadata": {
    "id": "agreed-defendant",
    "outputId": "9912e08f-dae3-4537-9406-7d4af04f0c92"
   },
   "outputs": [
    {
     "data": {
      "text/html": [
       "<div>\n",
       "<style scoped>\n",
       "    .dataframe tbody tr th:only-of-type {\n",
       "        vertical-align: middle;\n",
       "    }\n",
       "\n",
       "    .dataframe tbody tr th {\n",
       "        vertical-align: top;\n",
       "    }\n",
       "\n",
       "    .dataframe thead th {\n",
       "        text-align: right;\n",
       "    }\n",
       "</style>\n",
       "<table border=\"1\" class=\"dataframe\">\n",
       "  <thead>\n",
       "    <tr style=\"text-align: right;\">\n",
       "      <th></th>\n",
       "      <th>rut</th>\n",
       "      <th>periodo</th>\n",
       "      <th>archive</th>\n",
       "      <th>ind_activo</th>\n",
       "      <th>estado_solicitud</th>\n",
       "      <th>captacion</th>\n",
       "      <th>cant_tel</th>\n",
       "      <th>predictor1_6</th>\n",
       "      <th>marca_60d_6m_final</th>\n",
       "      <th>captacion_corregido</th>\n",
       "      <th>captacion_corregido_2</th>\n",
       "      <th>captacion_corregido_3</th>\n",
       "      <th>flag_predictor</th>\n",
       "      <th>flag_predictor_2</th>\n",
       "      <th>flag_predictor_3</th>\n",
       "      <th>estado_solicitud_new</th>\n",
       "      <th>valor</th>\n",
       "    </tr>\n",
       "  </thead>\n",
       "  <tbody>\n",
       "    <tr>\n",
       "      <th>3644</th>\n",
       "      <td>fdqAHGeoDr</td>\n",
       "      <td>201910.0</td>\n",
       "      <td>20191031.0</td>\n",
       "      <td>0.0</td>\n",
       "      <td>Rechazado</td>\n",
       "      <td>normal</td>\n",
       "      <td>2.0</td>\n",
       "      <td>521.0</td>\n",
       "      <td>0.0</td>\n",
       "      <td>0</td>\n",
       "      <td>None</td>\n",
       "      <td>NaN</td>\n",
       "      <td>Bajo</td>\n",
       "      <td>Bajo</td>\n",
       "      <td>Bajo</td>\n",
       "      <td>Rechazado</td>\n",
       "      <td>Bajo</td>\n",
       "    </tr>\n",
       "    <tr>\n",
       "      <th>6006</th>\n",
       "      <td>fdqAHGeoDr</td>\n",
       "      <td>201812.0</td>\n",
       "      <td>20181231.0</td>\n",
       "      <td>0.0</td>\n",
       "      <td>Rechazado</td>\n",
       "      <td>normal</td>\n",
       "      <td>2.0</td>\n",
       "      <td>NaN</td>\n",
       "      <td>0.0</td>\n",
       "      <td>0</td>\n",
       "      <td>None</td>\n",
       "      <td>NaN</td>\n",
       "      <td>Nulos</td>\n",
       "      <td>Nulos</td>\n",
       "      <td>Nulos</td>\n",
       "      <td>Rechazado</td>\n",
       "      <td>Bajo</td>\n",
       "    </tr>\n",
       "  </tbody>\n",
       "</table>\n",
       "</div>"
      ],
      "text/plain": [
       "             rut   periodo     archive  ind_activo estado_solicitud captacion  \\\n",
       "3644  fdqAHGeoDr  201910.0  20191031.0         0.0        Rechazado    normal   \n",
       "6006  fdqAHGeoDr  201812.0  20181231.0         0.0        Rechazado    normal   \n",
       "\n",
       "      cant_tel  predictor1_6  marca_60d_6m_final  captacion_corregido  \\\n",
       "3644       2.0         521.0                 0.0                    0   \n",
       "6006       2.0           NaN                 0.0                    0   \n",
       "\n",
       "     captacion_corregido_2 captacion_corregido_3 flag_predictor  \\\n",
       "3644                  None                   NaN           Bajo   \n",
       "6006                  None                   NaN          Nulos   \n",
       "\n",
       "     flag_predictor_2 flag_predictor_3 estado_solicitud_new valor  \n",
       "3644             Bajo             Bajo            Rechazado  Bajo  \n",
       "6006            Nulos            Nulos            Rechazado  Bajo  "
      ]
     },
     "execution_count": 114,
     "metadata": {},
     "output_type": "execute_result"
    }
   ],
   "source": [
    "df.query(\"rut=='fdqAHGeoDr'\")"
   ]
  },
  {
   "cell_type": "code",
   "execution_count": null,
   "id": "missing-demographic",
   "metadata": {
    "id": "missing-demographic"
   },
   "outputs": [],
   "source": [
    "df[\"row_number\"] = df.groupby('rut')['periodo'].rank(method = \"first\", ascending = 1)"
   ]
  },
  {
   "cell_type": "code",
   "execution_count": null,
   "id": "killing-birmingham",
   "metadata": {
    "id": "killing-birmingham"
   },
   "outputs": [],
   "source": [
    "df_filtrado = df.query(\"row_number==1\")"
   ]
  },
  {
   "cell_type": "code",
   "execution_count": null,
   "id": "passive-clark",
   "metadata": {
    "id": "passive-clark",
    "outputId": "a447ec7f-4809-46cb-c6d6-f822cb1fe755"
   },
   "outputs": [
    {
     "data": {
      "text/plain": [
       "(9991, 18)"
      ]
     },
     "execution_count": 117,
     "metadata": {},
     "output_type": "execute_result"
    }
   ],
   "source": [
    "df_filtrado.shape"
   ]
  },
  {
   "cell_type": "code",
   "execution_count": null,
   "id": "8fa79b65",
   "metadata": {},
   "outputs": [],
   "source": []
  }
 ],
 "metadata": {
  "kernelspec": {
   "display_name": "Python 3",
   "language": "python",
   "name": "python3"
  },
  "language_info": {
   "codemirror_mode": {
    "name": "ipython",
    "version": 3
   },
   "file_extension": ".py",
   "mimetype": "text/x-python",
   "name": "python",
   "nbconvert_exporter": "python",
   "pygments_lexer": "ipython3",
   "version": "3.8.8"
  }
 },
 "nbformat": 4,
 "nbformat_minor": 5
}
